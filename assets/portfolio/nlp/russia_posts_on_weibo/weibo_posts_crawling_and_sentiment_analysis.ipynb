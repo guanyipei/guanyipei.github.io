{
 "cells": [
  {
   "attachments": {},
   "cell_type": "markdown",
   "metadata": {},
   "source": [
    "<h1>Weibo Post Crawling and Sentiment Analysis</h1>"
   ]
  },
  {
   "attachments": {},
   "cell_type": "markdown",
   "metadata": {},
   "source": [
    "1. Collect first 50 pages of posts mentioning keywords 俄罗斯 （\"Russia\" in Chinese) on Weibo between 6:00pm-11:59pm, 6 Mar, 2023. Link of first searching result page: https://s.weibo.com/weibo/%25E8%25B0%2583%25E6%259F%25A5%25E8%25AE%25B0%25E8%2580%2585?q=%E4%BF%84%E7%BD%97%E6%96%AF&typeall=1&suball=1&timescope=custom:2023-03-06-18:2023-03-06-23&Refer=g\n",
    "\n",
    "The collected data are saved as csv file. Preview: https://guanyipei.github.io/asset/portfolio/web_crawling/russia_posts_on_weibo/Weibo_Crawling_Record.csv\n",
    "\n",
    "2. Collect information: user_id, user_screen_name, created_at, pid, text, comments, shares, likes\n",
    "\n",
    "3. Clean and tokenize the text of posts, and detect emotions underlying in the posts by frequency using the emotions dictionary document: https://guanyipei.github.io/asset/portfolio/web_crawling/russia_posts_on_weibo/Chinese_emotion_dictionary.csv\n",
    "\n",
    "4. Store the deccteed data and do analysis."
   ]
  },
  {
   "cell_type": "code",
   "execution_count": 1,
   "metadata": {},
   "outputs": [],
   "source": [
    "from selenium import webdriver\n",
    "from selenium.webdriver.common.keys import Keys\n",
    "import chromedriver_autoinstaller\n",
    "from selenium.webdriver.common.by import By\n",
    "import pandas as pd\n",
    "import time\n",
    "import csv\n",
    "import jieba\n",
    "import re"
   ]
  },
  {
   "cell_type": "code",
   "execution_count": 2,
   "metadata": {},
   "outputs": [],
   "source": [
    "options = webdriver.ChromeOptions() \n",
    "options.add_argument(\"--disable-blink-features=AutomationControlled\") \n",
    "options.add_experimental_option(\"excludeSwitches\", [\"enable-automation\"]) \n",
    "options.add_experimental_option(\"useAutomationExtension\", False) \n",
    "driver = webdriver.Chrome(options=options) \n",
    "driver.execute_script(\"Object.defineProperty(navigator, 'webdriver', {get: () => undefined})\") "
   ]
  },
  {
   "cell_type": "code",
   "execution_count": 3,
   "metadata": {},
   "outputs": [],
   "source": [
    "driver.get('https://s.weibo.com/weibo/%25E8%25B0%2583%25E6%259F%25A5%25E8%25AE%25B0%25E8%2580%2585?q=%E4%BF%84%E7%BD%97%E6%96%AF&typeall=1&suball=1&timescope=custom:2023-03-06-18:2023-03-06-23&Refer=g')"
   ]
  },
  {
   "cell_type": "code",
   "execution_count": 5,
   "metadata": {},
   "outputs": [
    {
     "name": "stdout",
     "output_type": "stream",
     "text": [
      "Length for posts in one page of searching result: 10\n",
      "--------------\n",
      "user id: 7805625463\n",
      "--------------\n",
      "user screen name: 津包饺\n",
      "--------------\n",
      "created at (date and time): 03月06日 22:59\n",
      "--------------\n",
      "mid: 4876429206487187\n",
      "--------------\n",
      "text: 各國應轟炸俄羅斯境內“暈輸線”……當年“炮擊金門”很久，最後因美國切斷了“廈門車站”運輸線，炮擊金門才止。（而不應去烏克蘭建軍工廠：俄會集中火力轟炸。）@美国驻华大使馆 @英國駐華使館 @歐盟在中國 @烏克蘭信使\n",
      "--------------\n",
      "Sharing: 转发\n",
      "--------------\n",
      "Comments: 5\n",
      "--------------\n",
      "Likes: 3\n",
      "--------------\n"
     ]
    }
   ],
   "source": [
    "# ------------------------\n",
    "# --Test post collection--\n",
    "# ------------------------\n",
    "post_item_list = driver.find_elements(By.XPATH,'//div[@action-type=\"feed_list_item\"]')\n",
    "print('Length for posts in one page of searching result:',len(post_item_list))\n",
    "# -----------------------\n",
    "# ---Test of all items---\n",
    "# -----------------------\n",
    "print('--------------')\n",
    "# user id\n",
    "print('user id:',post_item_list[0].find_element(By.XPATH,'./div[@class=\"card\"]/div[@class=\"card-feed\"]/div[@class=\"content\"]/div[@class=\"info\"]/div[2]/a[@class=\"name\"]').get_attribute('href').split('/')[-1].split('?')[0])\n",
    "print('--------------')\n",
    "\n",
    "# user screen name\n",
    "print('user screen name:',post_item_list[0].find_element(By.XPATH,'./div[@class=\"card\"]/div[@class=\"card-feed\"]/div[@class=\"content\"]/div[@class=\"info\"]/div[2]/a[@class=\"name\"]').text)\n",
    "print('--------------')\n",
    "\n",
    "# created at (date and time)\n",
    "print('created at (date and time):',post_item_list[0].find_element(By.XPATH,'./div[@class=\"card\"]/div[@class=\"card-feed\"]/div[@class=\"content\"]/div[@class=\"from\"]/a').text)\n",
    "print('--------------')\n",
    "\n",
    "# mid\n",
    "print('mid:',post_item_list[0].get_attribute('mid'))\n",
    "print('--------------')\n",
    "\n",
    "# text\n",
    "print('text:',post_item_list[0].find_element(By.XPATH,'./div[@class=\"card\"]/div[@class=\"card-feed\"]/div[@class=\"content\"]/p[@node-type=\"feed_list_content\"]').text)\n",
    "print('--------------')\n",
    "\n",
    "#number of sharing\n",
    "print('Sharing:',post_item_list[0].find_element(By.XPATH,'./div[@class=\"card\"]/div[@class=\"card-act\"]/ul/li[1]/a').text)\n",
    "# if no sharing activity for one post, it will shows \"转发\"\n",
    "print('--------------')\n",
    "\n",
    "# number of comments\n",
    "print('Comments:',post_item_list[0].find_element(By.XPATH,'./div[@class=\"card\"]/div[@class=\"card-act\"]/ul/li[2]/a').text)\n",
    "# if no comment activity for one post, it will shows \"评论\"\n",
    "print('--------------')\n",
    "\n",
    "#number of likes\n",
    "print('Likes:',post_item_list[0].find_element(By.XPATH,'./div[@class=\"card\"]/div[@class=\"card-act\"]/ul/li[3]/a').text)\n",
    "# if no like activity for one post, it will shows \"赞\"\n",
    "print('--------------')"
   ]
  },
  {
   "cell_type": "code",
   "execution_count": 7,
   "metadata": {},
   "outputs": [],
   "source": [
    "#-----------------------------\n",
    "#--Test the next page button--\n",
    "#-----------------------------\n",
    "next_page_button = driver.find_element(By.XPATH,'//div[@class=\"m-page\"]/div/a[@class=\"next\"]')\n",
    "next_page_button.click()"
   ]
  },
  {
   "cell_type": "code",
   "execution_count": 9,
   "metadata": {},
   "outputs": [
    {
     "name": "stdout",
     "output_type": "stream",
     "text": [
      "The info on the page 1 has been collected and recorded.\n",
      "The info on the page 2 has been collected and recorded.\n",
      "The info on the page 3 has been collected and recorded.\n",
      "The info on the page 4 has been collected and recorded.\n",
      "The info on the page 5 has been collected and recorded.\n",
      "The info on the page 6 has been collected and recorded.\n",
      "The info on the page 7 has been collected and recorded.\n",
      "The info on the page 8 has been collected and recorded.\n",
      "The info on the page 9 has been collected and recorded.\n",
      "The info on the page 10 has been collected and recorded.\n",
      "The info on the page 11 has been collected and recorded.\n",
      "The info on the page 12 has been collected and recorded.\n",
      "The info on the page 13 has been collected and recorded.\n",
      "The info on the page 14 has been collected and recorded.\n",
      "The info on the page 15 has been collected and recorded.\n",
      "The info on the page 16 has been collected and recorded.\n",
      "The info on the page 17 has been collected and recorded.\n",
      "The info on the page 18 has been collected and recorded.\n",
      "The info on the page 19 has been collected and recorded.\n",
      "The info on the page 20 has been collected and recorded.\n",
      "The info on the page 21 has been collected and recorded.\n",
      "The info on the page 22 has been collected and recorded.\n",
      "The info on the page 23 has been collected and recorded.\n",
      "The info on the page 24 has been collected and recorded.\n",
      "The info on the page 25 has been collected and recorded.\n",
      "The info on the page 26 has been collected and recorded.\n",
      "The info on the page 27 has been collected and recorded.\n",
      "The info on the page 28 has been collected and recorded.\n",
      "The info on the page 29 has been collected and recorded.\n",
      "The info on the page 30 has been collected and recorded.\n",
      "The info on the page 31 has been collected and recorded.\n",
      "The info on the page 32 has been collected and recorded.\n",
      "The info on the page 33 has been collected and recorded.\n",
      "The info on the page 34 has been collected and recorded.\n",
      "The info on the page 35 has been collected and recorded.\n",
      "The info on the page 36 has been collected and recorded.\n",
      "The info on the page 37 has been collected and recorded.\n",
      "The info on the page 38 has been collected and recorded.\n",
      "The info on the page 39 has been collected and recorded.\n",
      "The info on the page 40 has been collected and recorded.\n",
      "The info on the page 41 has been collected and recorded.\n",
      "The info on the page 42 has been collected and recorded.\n",
      "The info on the page 43 has been collected and recorded.\n",
      "The info on the page 44 has been collected and recorded.\n",
      "The info on the page 45 has been collected and recorded.\n",
      "The info on the page 46 has been collected and recorded.\n",
      "The info on the page 47 has been collected and recorded.\n",
      "The info on the page 48 has been collected and recorded.\n",
      "The info on the page 49 has been collected and recorded.\n",
      "The info on the page 50 has been collected and recorded.\n",
      "All 50 pages are recorded\n",
      "Done\n"
     ]
    }
   ],
   "source": [
    "file=open('Weibo_Crawling_Record.csv','w',encoding='utf-8',newline='\\n')\n",
    "writer=csv.writer(file)\n",
    "\n",
    "driver.get('https://s.weibo.com/weibo/%25E8%25B0%2583%25E6%259F%25A5%25E8%25AE%25B0%25E8%2580%2585?q=%E4%BF%84%E7%BD%97%E6%96%AF&typeall=1&suball=1&timescope=custom:2023-03-06-18:2023-03-06-23&Refer=g')\n",
    "time.sleep(5)\n",
    "\n",
    "for i in range(50):\n",
    "    post_item_list = driver.find_elements(By.XPATH,'//div[@action-type=\"feed_list_item\"]')\n",
    "    for per_post in post_item_list:\n",
    "        user_id = per_post.find_element(By.XPATH,'./div[@class=\"card\"]/div[@class=\"card-feed\"]/div[@class=\"content\"]/div[@class=\"info\"]/div[2]/a[@class=\"name\"]').get_attribute('suda-data').split('|')[0].split(':')[-1]\n",
    "        user_name = per_post.find_element(By.XPATH,'./div[@class=\"card\"]/div[@class=\"card-feed\"]/div[@class=\"content\"]/div[@class=\"info\"]/div[2]/a[@class=\"name\"]').text\n",
    "        created_at = per_post.find_element(By.XPATH,'./div[@class=\"card\"]/div[@class=\"card-feed\"]/div[@class=\"content\"]/div[@class=\"from\"]/a').text\n",
    "        mid = per_post.get_attribute('mid')\n",
    "        text = per_post.find_element(By.XPATH,'./div[@class=\"card\"]/div[@class=\"card-feed\"]/div[@class=\"content\"]/p[@node-type=\"feed_list_content\"]').text\n",
    "        sharing = per_post.find_element(By.XPATH,'./div[@class=\"card\"]/div[@class=\"card-act\"]/ul/li[1]/a').text\n",
    "        if sharing == '转发':\n",
    "            sharing = 0\n",
    "        comments = per_post.find_element(By.XPATH,'./div[@class=\"card\"]/div[@class=\"card-act\"]/ul/li[2]/a').text\n",
    "        if comments == '评论':\n",
    "            comments = 0\n",
    "        likes = per_post.find_element(By.XPATH,'./div[@class=\"card\"]/div[@class=\"card-act\"]/ul/li[3]/a').text\n",
    "        if likes == '赞':\n",
    "            likes = 0\n",
    "        writer.writerow([user_id,user_name,created_at,mid,text,sharing,comments,likes])\n",
    "    print('The info on the page',str(i+1),'has been collected and recorded.')\n",
    "    next_page_button = driver.find_element(By.XPATH,'//div[@class=\"m-page\"]/div/a[@class=\"next\"]')\n",
    "    next_page_button.click()\n",
    "    time.sleep(10)\n",
    "print('All 50 pages are recorded')\n",
    "file.close()\n",
    "print('Done')"
   ]
  },
  {
   "cell_type": "code",
   "execution_count": 10,
   "metadata": {},
   "outputs": [
    {
     "data": {
      "text/html": [
       "<div>\n",
       "<style scoped>\n",
       "    .dataframe tbody tr th:only-of-type {\n",
       "        vertical-align: middle;\n",
       "    }\n",
       "\n",
       "    .dataframe tbody tr th {\n",
       "        vertical-align: top;\n",
       "    }\n",
       "\n",
       "    .dataframe thead th {\n",
       "        text-align: right;\n",
       "    }\n",
       "</style>\n",
       "<table border=\"1\" class=\"dataframe\">\n",
       "  <thead>\n",
       "    <tr style=\"text-align: right;\">\n",
       "      <th></th>\n",
       "      <th>User ID</th>\n",
       "      <th>User Screen Name</th>\n",
       "      <th>Created at</th>\n",
       "      <th>mid</th>\n",
       "      <th>Text</th>\n",
       "      <th>Sharing</th>\n",
       "      <th>Comments</th>\n",
       "      <th>Likes</th>\n",
       "    </tr>\n",
       "  </thead>\n",
       "  <tbody>\n",
       "    <tr>\n",
       "      <th>0</th>\n",
       "      <td>168026879741003267738</td>\n",
       "      <td>津包饺</td>\n",
       "      <td>03月06日 22:59</td>\n",
       "      <td>4876429206487187</td>\n",
       "      <td>各國應轟炸俄羅斯境內“暈輸線”……當年“炮擊金門”很久，最後因美國切斷了“廈門車站”運輸線，...</td>\n",
       "      <td>0</td>\n",
       "      <td>5</td>\n",
       "      <td>3</td>\n",
       "    </tr>\n",
       "    <tr>\n",
       "      <th>1</th>\n",
       "      <td>168026879741003267738</td>\n",
       "      <td>JRPG斐哥</td>\n",
       "      <td>03月06日 22:58</td>\n",
       "      <td>4876428988124266</td>\n",
       "      <td>这张照片是1992年对岸的RPG爱好者们开办的座谈会。这样的“史前神仙会议”，实在是让我心驰...</td>\n",
       "      <td>25</td>\n",
       "      <td>8</td>\n",
       "      <td>70</td>\n",
       "    </tr>\n",
       "    <tr>\n",
       "      <th>2</th>\n",
       "      <td>168026879741003267738</td>\n",
       "      <td>俄罗斯卫星通讯社</td>\n",
       "      <td>03月06日 22:58</td>\n",
       "      <td>4876428979471750</td>\n",
       "      <td>【美国驻安卡拉大使就马克•米利访问叙利亚一事被召唤至土耳其外交部】安卡拉外交消息人士对俄罗斯...</td>\n",
       "      <td>3</td>\n",
       "      <td>3</td>\n",
       "      <td>21</td>\n",
       "    </tr>\n",
       "    <tr>\n",
       "      <th>3</th>\n",
       "      <td>168026879741003267738</td>\n",
       "      <td>军事在前沿</td>\n",
       "      <td>03月06日 22:58</td>\n",
       "      <td>4876428955353192</td>\n",
       "      <td>《插手台海挑衅？韩国3架军机直闯台湾空域，中方24架军机紧急起飞》美国等这样的机会已经很久了...</td>\n",
       "      <td>0</td>\n",
       "      <td>0</td>\n",
       "      <td>0</td>\n",
       "    </tr>\n",
       "    <tr>\n",
       "      <th>4</th>\n",
       "      <td>168026879741003267738</td>\n",
       "      <td>小猫荐剧</td>\n",
       "      <td>03月06日 22:58</td>\n",
       "      <td>4876428955093819</td>\n",
       "      <td>俄罗斯公布长期盟友名单，中国不在其中，普京良苦用心我们意会了 L小猫荐剧的微博视频</td>\n",
       "      <td>0</td>\n",
       "      <td>0</td>\n",
       "      <td>0</td>\n",
       "    </tr>\n",
       "  </tbody>\n",
       "</table>\n",
       "</div>"
      ],
      "text/plain": [
       "                 User ID User Screen Name    Created at               mid  \\\n",
       "0  168026879741003267738              津包饺  03月06日 22:59  4876429206487187   \n",
       "1  168026879741003267738           JRPG斐哥  03月06日 22:58  4876428988124266   \n",
       "2  168026879741003267738         俄罗斯卫星通讯社  03月06日 22:58  4876428979471750   \n",
       "3  168026879741003267738            军事在前沿  03月06日 22:58  4876428955353192   \n",
       "4  168026879741003267738             小猫荐剧  03月06日 22:58  4876428955093819   \n",
       "\n",
       "                                                Text  Sharing  Comments  Likes  \n",
       "0  各國應轟炸俄羅斯境內“暈輸線”……當年“炮擊金門”很久，最後因美國切斷了“廈門車站”運輸線，...        0         5      3  \n",
       "1  这张照片是1992年对岸的RPG爱好者们开办的座谈会。这样的“史前神仙会议”，实在是让我心驰...       25         8     70  \n",
       "2  【美国驻安卡拉大使就马克•米利访问叙利亚一事被召唤至土耳其外交部】安卡拉外交消息人士对俄罗斯...        3         3     21  \n",
       "3  《插手台海挑衅？韩国3架军机直闯台湾空域，中方24架军机紧急起飞》美国等这样的机会已经很久了...        0         0      0  \n",
       "4          俄罗斯公布长期盟友名单，中国不在其中，普京良苦用心我们意会了 L小猫荐剧的微博视频        0         0      0  "
      ]
     },
     "execution_count": 10,
     "metadata": {},
     "output_type": "execute_result"
    }
   ],
   "source": [
    "posts_df = pd.read_csv('Weibo_Crawling_Record.csv',header=None)\n",
    "posts_df.columns = ['User ID','User Screen Name','Created at','mid','Text','Sharing','Comments','Likes']\n",
    "posts_df = posts_df.drop_duplicates()\n",
    "posts_df.head()"
   ]
  },
  {
   "cell_type": "code",
   "execution_count": 11,
   "metadata": {},
   "outputs": [
    {
     "data": {
      "text/html": [
       "<div>\n",
       "<style scoped>\n",
       "    .dataframe tbody tr th:only-of-type {\n",
       "        vertical-align: middle;\n",
       "    }\n",
       "\n",
       "    .dataframe tbody tr th {\n",
       "        vertical-align: top;\n",
       "    }\n",
       "\n",
       "    .dataframe thead th {\n",
       "        text-align: right;\n",
       "    }\n",
       "</style>\n",
       "<table border=\"1\" class=\"dataframe\">\n",
       "  <thead>\n",
       "    <tr style=\"text-align: right;\">\n",
       "      <th></th>\n",
       "      <th>word</th>\n",
       "      <th>sentiment</th>\n",
       "      <th>intensity</th>\n",
       "      <th>valence</th>\n",
       "    </tr>\n",
       "  </thead>\n",
       "  <tbody>\n",
       "    <tr>\n",
       "      <th>0</th>\n",
       "      <td>脏乱</td>\n",
       "      <td>Disgust</td>\n",
       "      <td>7.0</td>\n",
       "      <td>-1.0</td>\n",
       "    </tr>\n",
       "    <tr>\n",
       "      <th>1</th>\n",
       "      <td>糟报</td>\n",
       "      <td>Disgust</td>\n",
       "      <td>5.0</td>\n",
       "      <td>-1.0</td>\n",
       "    </tr>\n",
       "    <tr>\n",
       "      <th>2</th>\n",
       "      <td>早衰</td>\n",
       "      <td>Disgust</td>\n",
       "      <td>5.0</td>\n",
       "      <td>-1.0</td>\n",
       "    </tr>\n",
       "    <tr>\n",
       "      <th>3</th>\n",
       "      <td>责备</td>\n",
       "      <td>Disgust</td>\n",
       "      <td>5.0</td>\n",
       "      <td>-1.0</td>\n",
       "    </tr>\n",
       "    <tr>\n",
       "      <th>4</th>\n",
       "      <td>贼眼</td>\n",
       "      <td>Disgust</td>\n",
       "      <td>5.0</td>\n",
       "      <td>-1.0</td>\n",
       "    </tr>\n",
       "  </tbody>\n",
       "</table>\n",
       "</div>"
      ],
      "text/plain": [
       "  word sentiment  intensity  valence\n",
       "0   脏乱   Disgust        7.0     -1.0\n",
       "1   糟报   Disgust        5.0     -1.0\n",
       "2   早衰   Disgust        5.0     -1.0\n",
       "3   责备   Disgust        5.0     -1.0\n",
       "4   贼眼   Disgust        5.0     -1.0"
      ]
     },
     "execution_count": 11,
     "metadata": {},
     "output_type": "execute_result"
    }
   ],
   "source": [
    "emotion_df=pd.read_csv('Chinese_emotion_dictionary.csv')\n",
    "emotion_df.head()"
   ]
  },
  {
   "cell_type": "code",
   "execution_count": 12,
   "metadata": {},
   "outputs": [],
   "source": [
    "emotion_dic={}\n",
    "sentiment_list = emotion_df['sentiment'].value_counts().index.tolist()\n",
    "for sentiment in sentiment_list:\n",
    "    emotion_dic[sentiment] = emotion_df[emotion_df['sentiment']==sentiment]['word'].tolist()"
   ]
  },
  {
   "cell_type": "code",
   "execution_count": 13,
   "metadata": {},
   "outputs": [],
   "source": [
    "def data_cleaning(text):\n",
    "    text=text.lower()\n",
    "    text=re.sub('[0-9]+','',text)\n",
    "    text=re.sub('@[^ ]+','',text)\n",
    "    text=re.sub('#[^ ]+','',text)\n",
    "    text=re.sub('https:[^ ]+','',text)\n",
    "    text=re.sub('[\\W]+',' ',text)\n",
    "    text=text.strip()\n",
    "    return(text)"
   ]
  },
  {
   "cell_type": "code",
   "execution_count": 15,
   "metadata": {},
   "outputs": [
    {
     "name": "stderr",
     "output_type": "stream",
     "text": [
      "Building prefix dict from the default dictionary ...\n",
      "Loading model from cache C:\\Users\\PEIGUA~1\\AppData\\Local\\Temp\\jieba.cache\n",
      "Loading model cost 0.454 seconds.\n",
      "Prefix dict has been built successfully.\n"
     ]
    },
    {
     "name": "stdout",
     "output_type": "stream",
     "text": [
      "<class 'pandas.core.frame.DataFrame'>\n",
      "Int64Index: 476 entries, 0 to 475\n",
      "Data columns (total 15 columns):\n",
      " #   Column            Non-Null Count  Dtype \n",
      "---  ------            --------------  ----- \n",
      " 0   User ID           476 non-null    object\n",
      " 1   User Screen Name  476 non-null    object\n",
      " 2   Created at        476 non-null    object\n",
      " 3   mid               476 non-null    int64 \n",
      " 4   Text              476 non-null    object\n",
      " 5   Sharing           476 non-null    int64 \n",
      " 6   Comments          476 non-null    int64 \n",
      " 7   Likes             476 non-null    int64 \n",
      " 8   Awe               476 non-null    int64 \n",
      " 9   Disgust           476 non-null    int64 \n",
      " 10  Sadness           476 non-null    int64 \n",
      " 11  Joy               476 non-null    int64 \n",
      " 12  Fear              476 non-null    int64 \n",
      " 13  Angry             476 non-null    int64 \n",
      " 14  Surprise          476 non-null    int64 \n",
      "dtypes: int64(11), object(4)\n",
      "memory usage: 59.5+ KB\n",
      "None\n"
     ]
    }
   ],
   "source": [
    "result_holder = {} \n",
    "for emotion in emotion_dic.keys():\n",
    "    result_for_one_emotion = []\n",
    "    for post_text in posts_df['Text'].tolist():\n",
    "        post_cleaned = data_cleaning(post_text)\n",
    "        post_splited = list(jieba.cut(post_cleaned))\n",
    "        count = 0\n",
    "        for word in emotion_dic[emotion]:\n",
    "            count += post_splited.count(word)\n",
    "        result_for_one_emotion.append(count)\n",
    "    result_holder[emotion] = result_for_one_emotion\n",
    "for emotion in result_holder.keys():\n",
    "    posts_df[emotion] = result_holder[emotion]\n",
    "print(posts_df.info())"
   ]
  },
  {
   "cell_type": "code",
   "execution_count": 16,
   "metadata": {},
   "outputs": [
    {
     "data": {
      "text/html": [
       "<div>\n",
       "<style scoped>\n",
       "    .dataframe tbody tr th:only-of-type {\n",
       "        vertical-align: middle;\n",
       "    }\n",
       "\n",
       "    .dataframe tbody tr th {\n",
       "        vertical-align: top;\n",
       "    }\n",
       "\n",
       "    .dataframe thead th {\n",
       "        text-align: right;\n",
       "    }\n",
       "</style>\n",
       "<table border=\"1\" class=\"dataframe\">\n",
       "  <thead>\n",
       "    <tr style=\"text-align: right;\">\n",
       "      <th></th>\n",
       "      <th>User ID</th>\n",
       "      <th>User Screen Name</th>\n",
       "      <th>Created at</th>\n",
       "      <th>mid</th>\n",
       "      <th>Text</th>\n",
       "      <th>Sharing</th>\n",
       "      <th>Comments</th>\n",
       "      <th>Likes</th>\n",
       "      <th>Awe</th>\n",
       "      <th>Disgust</th>\n",
       "      <th>Sadness</th>\n",
       "      <th>Joy</th>\n",
       "      <th>Fear</th>\n",
       "      <th>Angry</th>\n",
       "      <th>Surprise</th>\n",
       "    </tr>\n",
       "  </thead>\n",
       "  <tbody>\n",
       "    <tr>\n",
       "      <th>0</th>\n",
       "      <td>168026879741003267738</td>\n",
       "      <td>津包饺</td>\n",
       "      <td>03月06日 22:59</td>\n",
       "      <td>4876429206487187</td>\n",
       "      <td>各國應轟炸俄羅斯境內“暈輸線”……當年“炮擊金門”很久，最後因美國切斷了“廈門車站”運輸線，...</td>\n",
       "      <td>0</td>\n",
       "      <td>5</td>\n",
       "      <td>3</td>\n",
       "      <td>0</td>\n",
       "      <td>0</td>\n",
       "      <td>0</td>\n",
       "      <td>0</td>\n",
       "      <td>0</td>\n",
       "      <td>0</td>\n",
       "      <td>0</td>\n",
       "    </tr>\n",
       "    <tr>\n",
       "      <th>1</th>\n",
       "      <td>168026879741003267738</td>\n",
       "      <td>JRPG斐哥</td>\n",
       "      <td>03月06日 22:58</td>\n",
       "      <td>4876428988124266</td>\n",
       "      <td>这张照片是1992年对岸的RPG爱好者们开办的座谈会。这样的“史前神仙会议”，实在是让我心驰...</td>\n",
       "      <td>25</td>\n",
       "      <td>8</td>\n",
       "      <td>70</td>\n",
       "      <td>7</td>\n",
       "      <td>0</td>\n",
       "      <td>0</td>\n",
       "      <td>0</td>\n",
       "      <td>0</td>\n",
       "      <td>0</td>\n",
       "      <td>0</td>\n",
       "    </tr>\n",
       "    <tr>\n",
       "      <th>2</th>\n",
       "      <td>168026879741003267738</td>\n",
       "      <td>俄罗斯卫星通讯社</td>\n",
       "      <td>03月06日 22:58</td>\n",
       "      <td>4876428979471750</td>\n",
       "      <td>【美国驻安卡拉大使就马克•米利访问叙利亚一事被召唤至土耳其外交部】安卡拉外交消息人士对俄罗斯...</td>\n",
       "      <td>3</td>\n",
       "      <td>3</td>\n",
       "      <td>21</td>\n",
       "      <td>0</td>\n",
       "      <td>0</td>\n",
       "      <td>0</td>\n",
       "      <td>0</td>\n",
       "      <td>0</td>\n",
       "      <td>0</td>\n",
       "      <td>0</td>\n",
       "    </tr>\n",
       "    <tr>\n",
       "      <th>3</th>\n",
       "      <td>168026879741003267738</td>\n",
       "      <td>军事在前沿</td>\n",
       "      <td>03月06日 22:58</td>\n",
       "      <td>4876428955353192</td>\n",
       "      <td>《插手台海挑衅？韩国3架军机直闯台湾空域，中方24架军机紧急起飞》美国等这样的机会已经很久了...</td>\n",
       "      <td>0</td>\n",
       "      <td>0</td>\n",
       "      <td>0</td>\n",
       "      <td>2</td>\n",
       "      <td>1</td>\n",
       "      <td>0</td>\n",
       "      <td>0</td>\n",
       "      <td>1</td>\n",
       "      <td>0</td>\n",
       "      <td>0</td>\n",
       "    </tr>\n",
       "    <tr>\n",
       "      <th>4</th>\n",
       "      <td>168026879741003267738</td>\n",
       "      <td>小猫荐剧</td>\n",
       "      <td>03月06日 22:58</td>\n",
       "      <td>4876428955093819</td>\n",
       "      <td>俄罗斯公布长期盟友名单，中国不在其中，普京良苦用心我们意会了 L小猫荐剧的微博视频</td>\n",
       "      <td>0</td>\n",
       "      <td>0</td>\n",
       "      <td>0</td>\n",
       "      <td>0</td>\n",
       "      <td>0</td>\n",
       "      <td>0</td>\n",
       "      <td>0</td>\n",
       "      <td>0</td>\n",
       "      <td>0</td>\n",
       "      <td>0</td>\n",
       "    </tr>\n",
       "  </tbody>\n",
       "</table>\n",
       "</div>"
      ],
      "text/plain": [
       "                 User ID User Screen Name    Created at               mid  \\\n",
       "0  168026879741003267738              津包饺  03月06日 22:59  4876429206487187   \n",
       "1  168026879741003267738           JRPG斐哥  03月06日 22:58  4876428988124266   \n",
       "2  168026879741003267738         俄罗斯卫星通讯社  03月06日 22:58  4876428979471750   \n",
       "3  168026879741003267738            军事在前沿  03月06日 22:58  4876428955353192   \n",
       "4  168026879741003267738             小猫荐剧  03月06日 22:58  4876428955093819   \n",
       "\n",
       "                                                Text  Sharing  Comments  \\\n",
       "0  各國應轟炸俄羅斯境內“暈輸線”……當年“炮擊金門”很久，最後因美國切斷了“廈門車站”運輸線，...        0         5   \n",
       "1  这张照片是1992年对岸的RPG爱好者们开办的座谈会。这样的“史前神仙会议”，实在是让我心驰...       25         8   \n",
       "2  【美国驻安卡拉大使就马克•米利访问叙利亚一事被召唤至土耳其外交部】安卡拉外交消息人士对俄罗斯...        3         3   \n",
       "3  《插手台海挑衅？韩国3架军机直闯台湾空域，中方24架军机紧急起飞》美国等这样的机会已经很久了...        0         0   \n",
       "4          俄罗斯公布长期盟友名单，中国不在其中，普京良苦用心我们意会了 L小猫荐剧的微博视频        0         0   \n",
       "\n",
       "   Likes  Awe  Disgust  Sadness  Joy  Fear  Angry  Surprise  \n",
       "0      3    0        0        0    0     0      0         0  \n",
       "1     70    7        0        0    0     0      0         0  \n",
       "2     21    0        0        0    0     0      0         0  \n",
       "3      0    2        1        0    0     1      0         0  \n",
       "4      0    0        0        0    0     0      0         0  "
      ]
     },
     "execution_count": 16,
     "metadata": {},
     "output_type": "execute_result"
    }
   ],
   "source": [
    "posts_df.head()"
   ]
  },
  {
   "attachments": {},
   "cell_type": "markdown",
   "metadata": {},
   "source": [
    "How many posts convey angry emotion?"
   ]
  },
  {
   "cell_type": "code",
   "execution_count": 17,
   "metadata": {},
   "outputs": [
    {
     "name": "stdout",
     "output_type": "stream",
     "text": [
      "8\n"
     ]
    }
   ],
   "source": [
    "print(len(posts_df[posts_df['Angry']!=0]))"
   ]
  },
  {
   "attachments": {},
   "cell_type": "markdown",
   "metadata": {},
   "source": [
    "Which emotion is most prevalent in this dataset? In other words, which emotion has been mentioned by the most posts?"
   ]
  },
  {
   "cell_type": "code",
   "execution_count": 18,
   "metadata": {},
   "outputs": [
    {
     "data": {
      "text/plain": [
       "{'Awe': 526,\n",
       " 'Disgust': 292,\n",
       " 'Sadness': 81,\n",
       " 'Joy': 129,\n",
       " 'Fear': 41,\n",
       " 'Angry': 8,\n",
       " 'Surprise': 28}"
      ]
     },
     "execution_count": 18,
     "metadata": {},
     "output_type": "execute_result"
    }
   ],
   "source": [
    "# this is not the direct answer\n",
    "result_holder_for_3_2 = {}\n",
    "for emotion in posts_df.columns[-7:].tolist():\n",
    "    result_holder_for_3_2[emotion]=posts_df[emotion].sum()\n",
    "result_holder_for_3_2"
   ]
  },
  {
   "cell_type": "code",
   "execution_count": 19,
   "metadata": {},
   "outputs": [
    {
     "name": "stdout",
     "output_type": "stream",
     "text": [
      "Awe\n"
     ]
    }
   ],
   "source": [
    "# this is the direct answer\n",
    "print(max(result_holder_for_3_2, key=result_holder_for_3_2.get))"
   ]
  },
  {
   "attachments": {},
   "cell_type": "markdown",
   "metadata": {},
   "source": [
    "An angry post can attract an average of ____ likes. (i.e. How many likes do an angry post obtain on average)"
   ]
  },
  {
   "cell_type": "code",
   "execution_count": 21,
   "metadata": {},
   "outputs": [
    {
     "name": "stdout",
     "output_type": "stream",
     "text": [
      "18.625\n"
     ]
    }
   ],
   "source": [
    "angry_post = posts_df[posts_df['Angry']!=0]\n",
    "print(angry_post['Likes'].mean())"
   ]
  },
  {
   "attachments": {},
   "cell_type": "markdown",
   "metadata": {},
   "source": [
    "Find if there is any relationship between emotions and interactions (comments, sharing, likes)."
   ]
  },
  {
   "cell_type": "code",
   "execution_count": 22,
   "metadata": {},
   "outputs": [],
   "source": [
    "import plotly.graph_objs as go"
   ]
  },
  {
   "cell_type": "code",
   "execution_count": 23,
   "metadata": {},
   "outputs": [
    {
     "data": {
      "application/vnd.plotly.v1+json": {
       "config": {
        "plotlyServerURL": "https://plot.ly"
       },
       "data": [
        {
         "marker": {
          "color": [
           "red",
           "red",
           "blue",
           "blue",
           "blue",
           "blue",
           "blue",
           "blue",
           "blue",
           "blue"
          ]
         },
         "name": "Average Interaction Received",
         "type": "bar",
         "x": [
          "Post without Emotion",
          "Post with Emotion",
          "Awe Prevailed Posts",
          "Disgust Prevailed Posts",
          "Sad Prevailed Posts",
          "Joy Prevailed Posts",
          "Fear Prevailed Posts",
          "Angry Prevailed Posts",
          "Surprise Prevailed Posts"
         ],
         "y": [
          7.330882352941177,
          13.3,
          14.776,
          15.700680272108844,
          9.067796610169491,
          5.148936170212766,
          6.722222222222222,
          2.875,
          11.772727272727273
         ]
        }
       ],
       "layout": {
        "template": {
         "data": {
          "bar": [
           {
            "error_x": {
             "color": "#2a3f5f"
            },
            "error_y": {
             "color": "#2a3f5f"
            },
            "marker": {
             "line": {
              "color": "#E5ECF6",
              "width": 0.5
             },
             "pattern": {
              "fillmode": "overlay",
              "size": 10,
              "solidity": 0.2
             }
            },
            "type": "bar"
           }
          ],
          "barpolar": [
           {
            "marker": {
             "line": {
              "color": "#E5ECF6",
              "width": 0.5
             },
             "pattern": {
              "fillmode": "overlay",
              "size": 10,
              "solidity": 0.2
             }
            },
            "type": "barpolar"
           }
          ],
          "carpet": [
           {
            "aaxis": {
             "endlinecolor": "#2a3f5f",
             "gridcolor": "white",
             "linecolor": "white",
             "minorgridcolor": "white",
             "startlinecolor": "#2a3f5f"
            },
            "baxis": {
             "endlinecolor": "#2a3f5f",
             "gridcolor": "white",
             "linecolor": "white",
             "minorgridcolor": "white",
             "startlinecolor": "#2a3f5f"
            },
            "type": "carpet"
           }
          ],
          "choropleth": [
           {
            "colorbar": {
             "outlinewidth": 0,
             "ticks": ""
            },
            "type": "choropleth"
           }
          ],
          "contour": [
           {
            "colorbar": {
             "outlinewidth": 0,
             "ticks": ""
            },
            "colorscale": [
             [
              0,
              "#0d0887"
             ],
             [
              0.1111111111111111,
              "#46039f"
             ],
             [
              0.2222222222222222,
              "#7201a8"
             ],
             [
              0.3333333333333333,
              "#9c179e"
             ],
             [
              0.4444444444444444,
              "#bd3786"
             ],
             [
              0.5555555555555556,
              "#d8576b"
             ],
             [
              0.6666666666666666,
              "#ed7953"
             ],
             [
              0.7777777777777778,
              "#fb9f3a"
             ],
             [
              0.8888888888888888,
              "#fdca26"
             ],
             [
              1,
              "#f0f921"
             ]
            ],
            "type": "contour"
           }
          ],
          "contourcarpet": [
           {
            "colorbar": {
             "outlinewidth": 0,
             "ticks": ""
            },
            "type": "contourcarpet"
           }
          ],
          "heatmap": [
           {
            "colorbar": {
             "outlinewidth": 0,
             "ticks": ""
            },
            "colorscale": [
             [
              0,
              "#0d0887"
             ],
             [
              0.1111111111111111,
              "#46039f"
             ],
             [
              0.2222222222222222,
              "#7201a8"
             ],
             [
              0.3333333333333333,
              "#9c179e"
             ],
             [
              0.4444444444444444,
              "#bd3786"
             ],
             [
              0.5555555555555556,
              "#d8576b"
             ],
             [
              0.6666666666666666,
              "#ed7953"
             ],
             [
              0.7777777777777778,
              "#fb9f3a"
             ],
             [
              0.8888888888888888,
              "#fdca26"
             ],
             [
              1,
              "#f0f921"
             ]
            ],
            "type": "heatmap"
           }
          ],
          "heatmapgl": [
           {
            "colorbar": {
             "outlinewidth": 0,
             "ticks": ""
            },
            "colorscale": [
             [
              0,
              "#0d0887"
             ],
             [
              0.1111111111111111,
              "#46039f"
             ],
             [
              0.2222222222222222,
              "#7201a8"
             ],
             [
              0.3333333333333333,
              "#9c179e"
             ],
             [
              0.4444444444444444,
              "#bd3786"
             ],
             [
              0.5555555555555556,
              "#d8576b"
             ],
             [
              0.6666666666666666,
              "#ed7953"
             ],
             [
              0.7777777777777778,
              "#fb9f3a"
             ],
             [
              0.8888888888888888,
              "#fdca26"
             ],
             [
              1,
              "#f0f921"
             ]
            ],
            "type": "heatmapgl"
           }
          ],
          "histogram": [
           {
            "marker": {
             "pattern": {
              "fillmode": "overlay",
              "size": 10,
              "solidity": 0.2
             }
            },
            "type": "histogram"
           }
          ],
          "histogram2d": [
           {
            "colorbar": {
             "outlinewidth": 0,
             "ticks": ""
            },
            "colorscale": [
             [
              0,
              "#0d0887"
             ],
             [
              0.1111111111111111,
              "#46039f"
             ],
             [
              0.2222222222222222,
              "#7201a8"
             ],
             [
              0.3333333333333333,
              "#9c179e"
             ],
             [
              0.4444444444444444,
              "#bd3786"
             ],
             [
              0.5555555555555556,
              "#d8576b"
             ],
             [
              0.6666666666666666,
              "#ed7953"
             ],
             [
              0.7777777777777778,
              "#fb9f3a"
             ],
             [
              0.8888888888888888,
              "#fdca26"
             ],
             [
              1,
              "#f0f921"
             ]
            ],
            "type": "histogram2d"
           }
          ],
          "histogram2dcontour": [
           {
            "colorbar": {
             "outlinewidth": 0,
             "ticks": ""
            },
            "colorscale": [
             [
              0,
              "#0d0887"
             ],
             [
              0.1111111111111111,
              "#46039f"
             ],
             [
              0.2222222222222222,
              "#7201a8"
             ],
             [
              0.3333333333333333,
              "#9c179e"
             ],
             [
              0.4444444444444444,
              "#bd3786"
             ],
             [
              0.5555555555555556,
              "#d8576b"
             ],
             [
              0.6666666666666666,
              "#ed7953"
             ],
             [
              0.7777777777777778,
              "#fb9f3a"
             ],
             [
              0.8888888888888888,
              "#fdca26"
             ],
             [
              1,
              "#f0f921"
             ]
            ],
            "type": "histogram2dcontour"
           }
          ],
          "mesh3d": [
           {
            "colorbar": {
             "outlinewidth": 0,
             "ticks": ""
            },
            "type": "mesh3d"
           }
          ],
          "parcoords": [
           {
            "line": {
             "colorbar": {
              "outlinewidth": 0,
              "ticks": ""
             }
            },
            "type": "parcoords"
           }
          ],
          "pie": [
           {
            "automargin": true,
            "type": "pie"
           }
          ],
          "scatter": [
           {
            "fillpattern": {
             "fillmode": "overlay",
             "size": 10,
             "solidity": 0.2
            },
            "type": "scatter"
           }
          ],
          "scatter3d": [
           {
            "line": {
             "colorbar": {
              "outlinewidth": 0,
              "ticks": ""
             }
            },
            "marker": {
             "colorbar": {
              "outlinewidth": 0,
              "ticks": ""
             }
            },
            "type": "scatter3d"
           }
          ],
          "scattercarpet": [
           {
            "marker": {
             "colorbar": {
              "outlinewidth": 0,
              "ticks": ""
             }
            },
            "type": "scattercarpet"
           }
          ],
          "scattergeo": [
           {
            "marker": {
             "colorbar": {
              "outlinewidth": 0,
              "ticks": ""
             }
            },
            "type": "scattergeo"
           }
          ],
          "scattergl": [
           {
            "marker": {
             "colorbar": {
              "outlinewidth": 0,
              "ticks": ""
             }
            },
            "type": "scattergl"
           }
          ],
          "scattermapbox": [
           {
            "marker": {
             "colorbar": {
              "outlinewidth": 0,
              "ticks": ""
             }
            },
            "type": "scattermapbox"
           }
          ],
          "scatterpolar": [
           {
            "marker": {
             "colorbar": {
              "outlinewidth": 0,
              "ticks": ""
             }
            },
            "type": "scatterpolar"
           }
          ],
          "scatterpolargl": [
           {
            "marker": {
             "colorbar": {
              "outlinewidth": 0,
              "ticks": ""
             }
            },
            "type": "scatterpolargl"
           }
          ],
          "scatterternary": [
           {
            "marker": {
             "colorbar": {
              "outlinewidth": 0,
              "ticks": ""
             }
            },
            "type": "scatterternary"
           }
          ],
          "surface": [
           {
            "colorbar": {
             "outlinewidth": 0,
             "ticks": ""
            },
            "colorscale": [
             [
              0,
              "#0d0887"
             ],
             [
              0.1111111111111111,
              "#46039f"
             ],
             [
              0.2222222222222222,
              "#7201a8"
             ],
             [
              0.3333333333333333,
              "#9c179e"
             ],
             [
              0.4444444444444444,
              "#bd3786"
             ],
             [
              0.5555555555555556,
              "#d8576b"
             ],
             [
              0.6666666666666666,
              "#ed7953"
             ],
             [
              0.7777777777777778,
              "#fb9f3a"
             ],
             [
              0.8888888888888888,
              "#fdca26"
             ],
             [
              1,
              "#f0f921"
             ]
            ],
            "type": "surface"
           }
          ],
          "table": [
           {
            "cells": {
             "fill": {
              "color": "#EBF0F8"
             },
             "line": {
              "color": "white"
             }
            },
            "header": {
             "fill": {
              "color": "#C8D4E3"
             },
             "line": {
              "color": "white"
             }
            },
            "type": "table"
           }
          ]
         },
         "layout": {
          "annotationdefaults": {
           "arrowcolor": "#2a3f5f",
           "arrowhead": 0,
           "arrowwidth": 1
          },
          "autotypenumbers": "strict",
          "coloraxis": {
           "colorbar": {
            "outlinewidth": 0,
            "ticks": ""
           }
          },
          "colorscale": {
           "diverging": [
            [
             0,
             "#8e0152"
            ],
            [
             0.1,
             "#c51b7d"
            ],
            [
             0.2,
             "#de77ae"
            ],
            [
             0.3,
             "#f1b6da"
            ],
            [
             0.4,
             "#fde0ef"
            ],
            [
             0.5,
             "#f7f7f7"
            ],
            [
             0.6,
             "#e6f5d0"
            ],
            [
             0.7,
             "#b8e186"
            ],
            [
             0.8,
             "#7fbc41"
            ],
            [
             0.9,
             "#4d9221"
            ],
            [
             1,
             "#276419"
            ]
           ],
           "sequential": [
            [
             0,
             "#0d0887"
            ],
            [
             0.1111111111111111,
             "#46039f"
            ],
            [
             0.2222222222222222,
             "#7201a8"
            ],
            [
             0.3333333333333333,
             "#9c179e"
            ],
            [
             0.4444444444444444,
             "#bd3786"
            ],
            [
             0.5555555555555556,
             "#d8576b"
            ],
            [
             0.6666666666666666,
             "#ed7953"
            ],
            [
             0.7777777777777778,
             "#fb9f3a"
            ],
            [
             0.8888888888888888,
             "#fdca26"
            ],
            [
             1,
             "#f0f921"
            ]
           ],
           "sequentialminus": [
            [
             0,
             "#0d0887"
            ],
            [
             0.1111111111111111,
             "#46039f"
            ],
            [
             0.2222222222222222,
             "#7201a8"
            ],
            [
             0.3333333333333333,
             "#9c179e"
            ],
            [
             0.4444444444444444,
             "#bd3786"
            ],
            [
             0.5555555555555556,
             "#d8576b"
            ],
            [
             0.6666666666666666,
             "#ed7953"
            ],
            [
             0.7777777777777778,
             "#fb9f3a"
            ],
            [
             0.8888888888888888,
             "#fdca26"
            ],
            [
             1,
             "#f0f921"
            ]
           ]
          },
          "colorway": [
           "#636efa",
           "#EF553B",
           "#00cc96",
           "#ab63fa",
           "#FFA15A",
           "#19d3f3",
           "#FF6692",
           "#B6E880",
           "#FF97FF",
           "#FECB52"
          ],
          "font": {
           "color": "#2a3f5f"
          },
          "geo": {
           "bgcolor": "white",
           "lakecolor": "white",
           "landcolor": "#E5ECF6",
           "showlakes": true,
           "showland": true,
           "subunitcolor": "white"
          },
          "hoverlabel": {
           "align": "left"
          },
          "hovermode": "closest",
          "mapbox": {
           "style": "light"
          },
          "paper_bgcolor": "white",
          "plot_bgcolor": "#E5ECF6",
          "polar": {
           "angularaxis": {
            "gridcolor": "white",
            "linecolor": "white",
            "ticks": ""
           },
           "bgcolor": "#E5ECF6",
           "radialaxis": {
            "gridcolor": "white",
            "linecolor": "white",
            "ticks": ""
           }
          },
          "scene": {
           "xaxis": {
            "backgroundcolor": "#E5ECF6",
            "gridcolor": "white",
            "gridwidth": 2,
            "linecolor": "white",
            "showbackground": true,
            "ticks": "",
            "zerolinecolor": "white"
           },
           "yaxis": {
            "backgroundcolor": "#E5ECF6",
            "gridcolor": "white",
            "gridwidth": 2,
            "linecolor": "white",
            "showbackground": true,
            "ticks": "",
            "zerolinecolor": "white"
           },
           "zaxis": {
            "backgroundcolor": "#E5ECF6",
            "gridcolor": "white",
            "gridwidth": 2,
            "linecolor": "white",
            "showbackground": true,
            "ticks": "",
            "zerolinecolor": "white"
           }
          },
          "shapedefaults": {
           "line": {
            "color": "#2a3f5f"
           }
          },
          "ternary": {
           "aaxis": {
            "gridcolor": "white",
            "linecolor": "white",
            "ticks": ""
           },
           "baxis": {
            "gridcolor": "white",
            "linecolor": "white",
            "ticks": ""
           },
           "bgcolor": "#E5ECF6",
           "caxis": {
            "gridcolor": "white",
            "linecolor": "white",
            "ticks": ""
           }
          },
          "title": {
           "x": 0.05
          },
          "xaxis": {
           "automargin": true,
           "gridcolor": "white",
           "linecolor": "white",
           "ticks": "",
           "title": {
            "standoff": 15
           },
           "zerolinecolor": "white",
           "zerolinewidth": 2
          },
          "yaxis": {
           "automargin": true,
           "gridcolor": "white",
           "linecolor": "white",
           "ticks": "",
           "title": {
            "standoff": 15
           },
           "zerolinecolor": "white",
           "zerolinewidth": 2
          }
         }
        },
        "title": {
         "text": "The average received interactions for posts with different emotion presents"
        }
       }
      }
     },
     "metadata": {},
     "output_type": "display_data"
    }
   ],
   "source": [
    "posts_df['Emotion']=posts_df.iloc[:,-7:-1].sum(axis=1)\n",
    "posts_df['Interaction']=posts_df.iloc[:,-11:-9].sum(axis=1)\n",
    "\n",
    "posts_without_emotion = posts_df[posts_df['Emotion']==0]\n",
    "posts_with_emotion = posts_df[posts_df['Emotion']!=0]\n",
    "posts_with_awe =  posts_df[posts_df['Awe']!=0]\n",
    "posts_with_dis =  posts_df[posts_df['Disgust']!=0]\n",
    "posts_with_sad =  posts_df[posts_df['Sadness']!=0]\n",
    "posts_with_joy =  posts_df[posts_df['Joy']!=0]\n",
    "posts_with_fea =  posts_df[posts_df['Fear']!=0]\n",
    "posts_with_ang =  posts_df[posts_df['Angry']!=0]\n",
    "posts_with_sur =  posts_df[posts_df['Surprise']!=0]\n",
    "\n",
    "category_list = [\n",
    "    'Post without Emotion',\n",
    "    'Post with Emotion',\n",
    "    'Awe Prevailed Posts',\n",
    "    'Disgust Prevailed Posts',\n",
    "    'Sad Prevailed Posts',\n",
    "    'Joy Prevailed Posts',\n",
    "    'Fear Prevailed Posts',\n",
    "    'Angry Prevailed Posts',\n",
    "    'Surprise Prevailed Posts',\n",
    "]\n",
    "interaction_score =  [\n",
    "    posts_without_emotion['Interaction'].mean(),\n",
    "    posts_with_emotion['Interaction'].mean(),\n",
    "    posts_with_awe['Interaction'].mean(),\n",
    "    posts_with_dis['Interaction'].mean(),\n",
    "    posts_with_sad['Interaction'].mean(),\n",
    "    posts_with_joy['Interaction'].mean(),\n",
    "    posts_with_fea['Interaction'].mean(),\n",
    "    posts_with_ang['Interaction'].mean(),\n",
    "    posts_with_sur['Interaction'].mean(),\n",
    "]\n",
    "\n",
    "trace = go.Bar(x=category_list,y=interaction_score,name='Average Interaction Received',marker={'color':['red','red','blue','blue','blue','blue','blue','blue','blue','blue']})\n",
    "layout = go.Layout(title='The average received interactions for posts with different emotion presents')\n",
    "figure = go.Figure(data=trace,layout=layout)\n",
    "figure.show()"
   ]
  },
  {
   "attachments": {},
   "cell_type": "markdown",
   "metadata": {},
   "source": [
    "In the searching results of keywards Russia during a period Russia-Ukraine War is still undertaking,<br>\n",
    "posts that do not contain any emotion presentation evaluated by keywords frequency got far less (routhly half) interactions than those with emotions by audience on average,<br>\n",
    "and within the posts containing emotions, different emotions may have different accration in terms of catching interaction.<br>\n",
    "Disgust, awe, surprise, and sad emotions may attract more interactions to some degree,<br>\n",
    "which may be a reference for politicians or other public speakers who want to draw public attentions or even mobilize public sentiment.\n"
   ]
  }
 ],
 "metadata": {
  "kernelspec": {
   "display_name": "Python 3 (ipykernel)",
   "language": "python",
   "name": "python3"
  },
  "language_info": {
   "codemirror_mode": {
    "name": "ipython",
    "version": 3
   },
   "file_extension": ".py",
   "mimetype": "text/x-python",
   "name": "python",
   "nbconvert_exporter": "python",
   "pygments_lexer": "ipython3",
   "version": "3.11.1"
  },
  "widgets": {
   "application/vnd.jupyter.widget-state+json": {
    "state": {
     "09d403da72ce484c8059f560bd837121": {
      "model_module": "@jupyter-widgets/controls",
      "model_module_version": "1.4.0",
      "model_name": "DropdownModel",
      "state": {
       "_options_labels": [
        "Washington",
        "Jefferson",
        "Lincoln",
        "Roosevelt",
        "Kennedy",
        "Nixon",
        "Reagan",
        "Bush",
        "Clinton",
        "W Bush",
        "Obama",
        "Trump"
       ],
       "index": 0,
       "layout": "IPY_MODEL_5d041920c7cd48e2a363485668907b6d",
       "style": "IPY_MODEL_0e118725a2304b21b80c9097e5078e48"
      }
     },
     "0c14d355c296406cafa55fc7a8ff8703": {
      "model_module": "@jupyter-widgets/base",
      "model_module_version": "1.1.0",
      "model_name": "LayoutModel",
      "state": {}
     },
     "0e118725a2304b21b80c9097e5078e48": {
      "model_module": "@jupyter-widgets/controls",
      "model_module_version": "1.4.0",
      "model_name": "DescriptionStyleModel",
      "state": {
       "description_width": ""
      }
     },
     "108e50ab0f634a8e8356903e8b05b383": {
      "model_module": "@jupyter-widgets/base",
      "model_module_version": "1.1.0",
      "model_name": "LayoutModel",
      "state": {}
     },
     "36f14aa0711647fcaf7d3c41e5098cba": {
      "model_module": "@jupyter-widgets/controls",
      "model_module_version": "1.4.0",
      "model_name": "DescriptionStyleModel",
      "state": {
       "description_width": ""
      }
     },
     "427453b1a0234b0795232b2204adf254": {
      "model_module": "@jupyter-widgets/base",
      "model_module_version": "1.1.0",
      "model_name": "LayoutModel",
      "state": {}
     },
     "447e287667804afdb3703200255435b7": {
      "model_module": "@jupyter-widgets/base",
      "model_module_version": "1.1.0",
      "model_name": "LayoutModel",
      "state": {}
     },
     "48c28b30321d42b5aa6ca23b457faec8": {
      "model_module": "@jupyter-widgets/controls",
      "model_module_version": "1.4.0",
      "model_name": "DropdownModel",
      "state": {
       "_options_labels": [
        "Self-Direction",
        "Stimulation",
        "Hedonism",
        "Achievement",
        "Power",
        "Security",
        "Tradition",
        "Conformity",
        "Benevolence",
        "Universalism"
       ],
       "index": 0,
       "layout": "IPY_MODEL_0c14d355c296406cafa55fc7a8ff8703",
       "style": "IPY_MODEL_36f14aa0711647fcaf7d3c41e5098cba"
      }
     },
     "50b1ce134bfb4976b5524b63af79063b": {
      "model_module": "@jupyter-widgets/controls",
      "model_module_version": "1.4.0",
      "model_name": "DescriptionStyleModel",
      "state": {
       "description_width": ""
      }
     },
     "5d041920c7cd48e2a363485668907b6d": {
      "model_module": "@jupyter-widgets/base",
      "model_module_version": "1.1.0",
      "model_name": "LayoutModel",
      "state": {}
     },
     "6bf5d15ed7ba4ce48882118753034deb": {
      "model_module": "@jupyter-widgets/base",
      "model_module_version": "1.1.0",
      "model_name": "LayoutModel",
      "state": {}
     },
     "92f1a9bf5e1e456a9e928334a2c94444": {
      "model_module": "@jupyter-widgets/controls",
      "model_module_version": "1.4.0",
      "model_name": "DropdownModel",
      "state": {
       "_options_labels": [
        "Self-Direction",
        "Stimulation",
        "Hedonism",
        "Achievement",
        "Power",
        "Security",
        "Tradition",
        "Conformity",
        "Benevolence",
        "Universalism"
       ],
       "index": 0,
       "layout": "IPY_MODEL_108e50ab0f634a8e8356903e8b05b383",
       "style": "IPY_MODEL_9482fb8de0f24b67a9ea4476a4ab865a"
      }
     },
     "9482fb8de0f24b67a9ea4476a4ab865a": {
      "model_module": "@jupyter-widgets/controls",
      "model_module_version": "1.4.0",
      "model_name": "DescriptionStyleModel",
      "state": {
       "description_width": ""
      }
     },
     "b342823aa0e74a50bbbe2659fd0a1980": {
      "model_module": "@jupyter-widgets/controls",
      "model_module_version": "1.4.0",
      "model_name": "DropdownModel",
      "state": {
       "_options_labels": [
        "Washington",
        "Jefferson",
        "Lincoln",
        "Roosevelt",
        "Kennedy",
        "Nixon",
        "Reagan",
        "Bush",
        "Clinton",
        "W Bush",
        "Obama",
        "Trump"
       ],
       "index": 0,
       "layout": "IPY_MODEL_427453b1a0234b0795232b2204adf254",
       "style": "IPY_MODEL_e2aa6eccef004eda98c547964bb65ab1"
      }
     },
     "b79d13a09c964e2c9ad68347bc444f73": {
      "model_module": "@jupyter-widgets/controls",
      "model_module_version": "1.4.0",
      "model_name": "DropdownModel",
      "state": {
       "_options_labels": [
        "Self-Direction",
        "Stimulation",
        "Hedonism",
        "Achievement",
        "Power",
        "Security",
        "Tradition",
        "Conformity",
        "Benevolence",
        "Universalism"
       ],
       "index": 0,
       "layout": "IPY_MODEL_447e287667804afdb3703200255435b7",
       "style": "IPY_MODEL_50b1ce134bfb4976b5524b63af79063b"
      }
     },
     "e2aa6eccef004eda98c547964bb65ab1": {
      "model_module": "@jupyter-widgets/controls",
      "model_module_version": "1.4.0",
      "model_name": "DescriptionStyleModel",
      "state": {
       "description_width": ""
      }
     },
     "fa3f15da2c5b48ef902cb9eced151a83": {
      "model_module": "@jupyter-widgets/controls",
      "model_module_version": "1.4.0",
      "model_name": "AccordionModel",
      "state": {
       "_titles": {
        "0": "If all inauguration speeches are considered, which value is the most important and most mentioned?",
        "1": "Among all studied presidents, who emphasizes the value of STIMULATION more often than others?",
        "2": "Among all studied presidents, who emphasizes the value of POWER more often than others?",
        "3": "Among all studied values, what is the most important thing for Trump?",
        "4": "Among all studied values, what is the least important thing for Trump?"
       },
       "children": [
        "IPY_MODEL_b79d13a09c964e2c9ad68347bc444f73",
        "IPY_MODEL_b342823aa0e74a50bbbe2659fd0a1980",
        "IPY_MODEL_09d403da72ce484c8059f560bd837121",
        "IPY_MODEL_92f1a9bf5e1e456a9e928334a2c94444",
        "IPY_MODEL_48c28b30321d42b5aa6ca23b457faec8"
       ],
       "layout": "IPY_MODEL_6bf5d15ed7ba4ce48882118753034deb"
      }
     }
    },
    "version_major": 2,
    "version_minor": 0
   }
  }
 },
 "nbformat": 4,
 "nbformat_minor": 2
}
