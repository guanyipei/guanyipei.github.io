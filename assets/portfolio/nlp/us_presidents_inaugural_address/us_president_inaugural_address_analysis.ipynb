{
 "cells": [
  {
   "attachments": {},
   "cell_type": "markdown",
   "metadata": {},
   "source": [
    "<h1>U.S. Presidents' Inaugural Address Analysis</h1>"
   ]
  },
  {
   "attachments": {},
   "cell_type": "markdown",
   "metadata": {},
   "source": [
    "US prisidents' inaugural address content file: https://guanyipei.github.io/assets/portfolio/nlp/us_presidents_inaugural_address/presidential_speech.csv\n",
    "<p>Look into the content of inauguration speech to disentangle presidents' value priorities as well as their ideological orientations.</p>\n",
    "<p>Previous research (Jones et al., 2017) has identified ten clusters of values that are relevant to political ideology, as well as ten sets of keywords to gauge their magnitudes as follows:</p>\n",
    "\n",
    "|No.|Value|Keywords (example)|\n",
    "|:-----:|:-----:|:-----:|\n",
    "|1|Self-Direction|ability,accountability,freedom\n",
    "|2|Stimulation|action,active,confront\n",
    "|3|Hedonism|amusement,delight,gratification\n",
    "|4|Achievement|accomplish,attain,improve\n",
    "|5|Power|authorize,dominance,reign\n",
    "|6|Security|asylum,refuge,border,prison\n",
    "|7|Tradition|catholic,christian,jewish,patriot\n",
    "|8|Conformity|abide,mandate,rule,restraint\n",
    "|9|Benevolence|allegiance,altruism,sympathy\n",
    "|10|Universalism|equality,affordability,balances\n",
    "\n",
    "Political ideology file: https://guanyipei.github.io/assets/portfolio/nlp/us_presidents_inaugural_address/political_ideology.txt\n",
    "<p>File format: Every line refers to one value. Value and its keywords are separated by colon and function words are separated by comma.</p>\n",
    "<p>Analyze the relative importance of each value in presidential speeches. Relative importance is defined as the number of times one value are mentioned per thousand words.</p>"
   ]
  },
  {
   "cell_type": "code",
   "execution_count": 1,
   "metadata": {},
   "outputs": [],
   "source": [
    "import nltk\n",
    "from nltk.stem import WordNetLemmatizer\n",
    "Lemmatizer=WordNetLemmatizer()"
   ]
  },
  {
   "cell_type": "code",
   "execution_count": 2,
   "metadata": {},
   "outputs": [],
   "source": [
    "def lemmatization(word_list):\n",
    "    words_lemma=[]\n",
    "    for word,pos in nltk.pos_tag(word_list):\n",
    "        if pos[0]=='N':\n",
    "            words_lemma.append(Lemmatizer.lemmatize(word))\n",
    "        elif pos[0]=='J':\n",
    "            words_lemma.append(Lemmatizer.lemmatize(word,'a'))\n",
    "        elif pos[0]=='V':\n",
    "            words_lemma.append(Lemmatizer.lemmatize(word,'v'))\n",
    "        else:\n",
    "            words_lemma.append(word)\n",
    "    return(words_lemma)"
   ]
  },
  {
   "cell_type": "code",
   "execution_count": 3,
   "metadata": {},
   "outputs": [
    {
     "name": "stdout",
     "output_type": "stream",
     "text": [
      "Done\n",
      "{'Self-Direction': ['ability', 'abide', 'accountability', 'accountable', 'actualize', 'actualized', 'actualizes', 'advocacy', 'advocate', 'analytical', 'analyze', 'analyzes', 'ask', 'autonomy', 'build', 'choice', 'choose', 'chose', 'compose', 'composes', 'consider', 'considers', 'construct', 'conversation', 'converse', 'create', 'creates', 'creation', 'creative', 'curious', 'debate', 'decide', 'decides', 'decision', 'democracy', 'design', 'devise', 'discover', 'discus', 'discuss', 'discussion', 'elect', 'election', 'establish', 'establishes', 'examine', 'examines', 'explain', 'explains', 'explore', 'explores', 'formulate', 'formulates', 'freedom', 'idea', 'independence', 'independent', 'individualistic', 'initiate', 'initiated', 'innovate', 'innovates', 'innovative', 'inquire', 'inquires', 'inquisitive', 'inspect', 'inspecting', 'inspects', 'invent', 'invents', 'investigate', 'investigates', 'investigative', 'liberty', 'make', 'negotiation', 'negotiate', 'negotiates', 'opportunity', 'participate', 'participates', 'plan', 'planning', 'poll', 'polling', 'preference', 'probe', 'produce', 'question', 'research', 'scrutinize', 'scrutinized', 'scrutinizing', 'scrutinizes', 'search', 'searched', 'seek', 'seeks', 'self-control', 'self-determination', 'self-reliant', 'self-rule', 'self-sufficient', 'self-support', 'sovereign', 'test', 'think', 'thought', 'vote', 'voter'], 'Stimulation': ['action', 'active', 'activity', 'adventure', 'adventuresome', 'alive', 'animate', 'bold', 'brave', 'buzz', 'challenge', 'change', 'commotion', 'confront', 'confronts', 'courage', 'courageous', 'dare', 'defied', 'defies', 'defy', 'diverse', 'diversity', 'elation', 'encouragement', 'encourage', 'energetic', 'energy', 'excitation', 'excite', 'excited', 'excitement', 'exertive', 'fearless', 'fresh', 'freshness', 'grit', 'gritty', 'gut', 'gutsy', 'innovate', 'innovates', 'innovation', 'inspiration', 'inspire', 'inspires', 'invigorate', 'invigoration', 'lively', 'movement', 'nervy', 'novel', 'novelty', 'opportunity', 'outdare', 'outgo', 'provocation', 'provoke', 'refreshment', 'risk', 'spirit', 'spontaneous', 'sport', 'stimulate', 'stimulates', 'stimulation', 'stimulus', 'thrill', 'variation', 'variety', 'vision', 'zest'], 'Hedonism': ['amusement', 'arouse', 'ate', 'avarice', 'beautiful', 'celebrate', 'celebrates', 'celebration', 'contentment', 'covet', 'covets', 'dance', 'debauchery', 'decadent', 'delight', 'desire', 'drink', 'drunk', 'eat', 'eats', 'enjoy', 'enjoyment', 'enjoys', 'entertain', 'entertained', 'entertaining', 'entertainment', 'entertains', 'euphoria', 'euphoric', 'fancy', 'feast', 'festival', 'fun', 'game', 'glad', 'gladness', 'gluttony', 'gratification', 'gratify', 'gratifies', 'greed', 'greedy', 'happy', 'hungry', 'indulge', 'joy', 'long', 'lust', 'luxury', 'meal', 'pleased', 'plea', 'please', 'pleasure', 'pleasured', 'pleasuring', 'pretty', 'ravenous', 'recreation', 'recreational', 'satisfaction', 'satisfy', 'satisfies', 'savor', 'savoring', 'self-indulgent', 'sensually', 'sensuous', 'sexually', 'titillate', 'titillates', 'titillation', 'turn-on', 'vacation'], 'Achievement': ['accomplish', 'accomplishes', 'accomplishment', 'achieve', 'achievement', 'achieves', 'advance', 'ambition', 'ambitious', 'attain', 'attainment', 'attains', 'beat', 'benefit', 'best', 'brainy', 'bright', 'brilliant', 'capability', 'capable', 'champion', 'championship', 'competence', 'competent', 'complete', 'completes', 'completion', 'congrats', 'congratulation', 'develop', 'developed', 'development', 'diploma', 'efficient', 'excel', 'excellent', 'excels', 'finish', 'fruition', 'fulfillment', 'gain', 'goal', 'graduate', 'graduation', 'great', 'growth', 'impress', 'impressed', 'impressive', 'improve', 'improvement', 'influence', 'influential', 'intelligent', 'medal', 'objective', 'outstanding', 'overcame', 'overcome', 'overcomes', 'perfect', 'perfection', 'prevail', 'prevails', 'productive', 'proficient', 'progress', 'progressive', 'prosperity', 'prosperous', 'qualification', 'qualify', 'qualifies', 'raise', 'recognition', 'reward', 'rise', 'solution', 'succeed', 'succeeded', 'success', 'successful', 'successfully', 'triumph', 'triumphant', 'triumphs', 'victory', 'victorious', 'well', 'win', 'winner'], 'Power': ['administer', 'administers', 'administration', 'advantage', 'aggression', 'aggressive', 'attack', 'authority', 'authorization', 'authorize', 'authorized', 'authorizes', 'bos', 'boss', 'captain', 'chief', 'chieftain', 'command', 'control', 'demand', 'dictate', 'dictator', 'director', 'dominance', 'dominant', 'dominate', 'dominates', 'domination', 'dominion', 'enforce', 'enforced', 'enforcement', 'enforces', 'execute', 'expansion', 'force', 'govern', 'governor', 'grand', 'head', 'hero', 'intimidate', 'intimidates', 'intimidation', 'king', 'lead', 'leader', 'manage', 'management', 'manages', 'oversaw', 'oversee', 'oversees', 'power', 'powerful', 'powerhouse', 'predominant', 'prestige', 'prestigious', 'prominence', 'recognize', 'recognizes', 'reign', 'resourceful', 'rich', 'status', 'strength', 'strengthen', 'strengthens', 'strong', 'superior', 'supervise', 'supervision', 'supervisor', 'supreme', 'supremacy', 'top', 'wealth', 'wealthy'], 'Security': ['abuse', 'armed', 'army', 'arm', 'artillery', 'assault', 'asylum', 'barricade', 'bastion', 'battle', 'bomb', 'border', 'clean', 'combat', 'combatant', 'crime', 'criminal', 'crisis', 'custody', 'dangerous', 'defend', 'defends', 'defense', 'destruction', 'disaster', 'disease', 'disorder', 'drone', 'drug', 'emergencies', 'emergency', 'enemy', 'fight', 'firearm', 'firefighter', 'forebode', 'fort', 'fortify', 'fortifies', 'fortress', 'fought', 'guard', 'guarding', 'gun', 'harmony', 'hazard', 'health', 'healthy', 'homeland', 'hurricane', 'immunity', 'injure', 'injured', 'injures', 'injury', 'injurious', 'kill', 'killing', 'militant', 'military', 'navy', 'pain', 'peril', 'perilous', 'prison', 'prisoner', 'protect', 'protection', 'refuge', 'safe', 'safeguard', 'safekeeping', 'safeness', 'safety', 'salvation', 'sanction', 'sanctuary', 'save', 'secure', 'secures', 'security', 'shelter', 'shield', 'shielded', 'shielding', 'shoot', 'shot', 'soldier', 'stability', 'stable', 'storm', 'surveil', 'surveillance', 'surveilling', 'surveils', 'terror', 'terrorism', 'terrorist', 'terrorize', 'terrorizes', 'threat', 'tornado', 'troop', 'usarmy', 'violence', 'war', 'weapon'], 'Tradition': ['attitude', 'belief', 'birthright', 'bless', 'catholic', 'christian', 'christmas', 'church', 'communion', 'consuetude', 'creed', 'culture', 'custom', 'devote', 'devotes', 'devotion', 'devout', 'easter', 'endowment', 'estate', 'estates', 'ethnic', 'faith', 'flag', 'folklore', 'fourthofjuly', 'fraternal', 'fraternity', 'god', 'habit', 'heritage', 'holiday', 'indepedenceday', 'inherit', 'inheritance', 'inherits', 'jew', 'jewish', 'judaism', 'legend', 'memorialday', 'muslim', 'myth', 'observance', 'observant', 'patriot', 'pietism', 'piety', 'pious', 'practice', 'pray', 'prayer', 'prays', 'procedure', 'propriety', 'religion', 'religiosity', 'religious', 'respect', 'restore', 'restores', 'reverence', 'ritual', 'saint', 'sect', 'sectarian', 'sectarion', 'sects', 'statue', 'superstition', 'symbol', 'tradition', 'traditional', 'wisdom', 'preserve'], 'Conformity': ['abide', 'abides', 'accommodate', 'accommodates', 'accommodation', 'acquiesce', 'acquiescence', 'acquiesces', 'adhere', 'adherence', 'adheres', 'agree', 'agreement', 'approval', 'assent', 'attune', 'attunes', 'command', 'compliance', 'comply', 'complies', 'compromise', 'concur', 'concurs', 'conform', 'conformity', 'conforms', 'conventionality', 'discipline', 'duty', 'embrace', 'fit', 'follow', 'follower', 'group', 'harmonize', 'harmonizes', 'heed', 'honor', 'illegal', 'judiciary', 'law', 'law-maker', 'law-makers', 'legal', 'mandate', 'norm', 'obedience', 'obey', 'obeyed', 'obeys', 'order', 'polite', 'politeness', 'reconcile', 'reconciles', 'regulate', 'regulates', 'regulation', 'restrain', 'restrained', 'restraining', 'restrains', 'restraint', 'rule', 'self-discipline', 'statute', 'submission', 'submit', 'submits', 'support', 'uniformity', 'yield', 'yielding'], 'Benevolence': ['allegiance', 'altruism', 'altruist', 'altruistic', 'amity', 'assist', 'assistance', 'belong', 'belonging', 'belongs', 'benevolence', 'care', 'charitable', 'charity', 'compassion', 'donate', 'donates', 'donation', 'empathy', 'forgive', 'forgives', 'friend', 'friendly', 'friends', 'friendship', 'give', 'generosity', 'generous', 'gift', 'help', 'helpful', 'helps', 'honest', 'humane', 'humanitarian', 'humanitarianism', 'humanity', 'kind', 'kindheated', 'kindheartness', 'kindness', 'love', 'loyal', 'loyalty', 'obligation', 'philanthropic', 'philanthropy', 'pitied', 'pity', 'provide', 'relief', 'responsible', 'sacrifice', 'serve', 'serf', 'service', 'share', 'sympathetic', 'sympathy', 'thank', 'thankful', 'thanks', 'victim', 'volunteer'], 'Universalism': ['equality', 'equal', 'fair', 'fairness', 'accept', 'acceptance', 'accepts', 'afford', 'affordability', 'affords', 'all-inclusive', 'balance', 'bipartisan', 'broadminded', 'clemency', 'climate', 'coalition', 'diplomacy', 'diplomat', 'discriminate', 'discriminates', 'discrimination', 'diverse', 'diversity', 'egalitarian', 'environment', 'environmental', 'equitability', 'equity', 'even', 'evenness', 'everyone', 'global', 'integrity', 'interfaith', 'international', 'intersectionalism', 'just', 'justice', 'justness', 'multinational', 'oppress', 'oppression', 'peace', 'poverty', 'right', 'tolerance', 'transparency', 'truth', 'ubiquitous', 'unfair', 'union', 'united', 'unitednation', 'universal', 'universalism', 'welfare']}\n"
     ]
    }
   ],
   "source": [
    "value_dic={}\n",
    "full_file = open('political_ideology.txt','r')\n",
    "lines = full_file.readlines()\n",
    "for line in lines:\n",
    "    cleaned_line = line.strip()\n",
    "    value_key = cleaned_line.split(':')[0]\n",
    "    keywords_list = cleaned_line.split(':')[1].lower().split(',')\n",
    "    keywords_lemma = lemmatization(keywords_list)\n",
    "    # remove duplicate lemmatized keywords\n",
    "    keywords_lemma_without_duplicate = list(dict.fromkeys(keywords_lemma))\n",
    "    value_dic[value_key] = keywords_lemma_without_duplicate\n",
    "full_file.close()\n",
    "print('Done')\n",
    "print(value_dic)"
   ]
  },
  {
   "cell_type": "code",
   "execution_count": 4,
   "metadata": {},
   "outputs": [
    {
     "data": {
      "text/html": [
       "<div>\n",
       "<style scoped>\n",
       "    .dataframe tbody tr th:only-of-type {\n",
       "        vertical-align: middle;\n",
       "    }\n",
       "\n",
       "    .dataframe tbody tr th {\n",
       "        vertical-align: top;\n",
       "    }\n",
       "\n",
       "    .dataframe thead th {\n",
       "        text-align: right;\n",
       "    }\n",
       "</style>\n",
       "<table border=\"1\" class=\"dataframe\">\n",
       "  <thead>\n",
       "    <tr style=\"text-align: right;\">\n",
       "      <th></th>\n",
       "      <th>Unnamed: 0</th>\n",
       "      <th>president</th>\n",
       "      <th>speech</th>\n",
       "    </tr>\n",
       "  </thead>\n",
       "  <tbody>\n",
       "    <tr>\n",
       "      <th>0</th>\n",
       "      <td>0</td>\n",
       "      <td>Washington</td>\n",
       "      <td>Fellow Citizens of the Senate and the House of...</td>\n",
       "    </tr>\n",
       "    <tr>\n",
       "      <th>1</th>\n",
       "      <td>1</td>\n",
       "      <td>Jefferson</td>\n",
       "      <td>FRIENDS AND FELLOW-CITIZENS,\\nCalled upon to u...</td>\n",
       "    </tr>\n",
       "    <tr>\n",
       "      <th>2</th>\n",
       "      <td>2</td>\n",
       "      <td>Lincoln</td>\n",
       "      <td>Fellow-Countrymen:\\nAt this second appearing t...</td>\n",
       "    </tr>\n",
       "    <tr>\n",
       "      <th>3</th>\n",
       "      <td>3</td>\n",
       "      <td>Roosevelt</td>\n",
       "      <td>I am certain that my fellow Americans expect t...</td>\n",
       "    </tr>\n",
       "    <tr>\n",
       "      <th>4</th>\n",
       "      <td>4</td>\n",
       "      <td>Kennedy</td>\n",
       "      <td>Vice President Johnson, Mr. Speaker, Mr. Chief...</td>\n",
       "    </tr>\n",
       "    <tr>\n",
       "      <th>5</th>\n",
       "      <td>5</td>\n",
       "      <td>Nixon</td>\n",
       "      <td>Senator Dirksen, Mr. Chief Justice, Mr. Vice P...</td>\n",
       "    </tr>\n",
       "    <tr>\n",
       "      <th>6</th>\n",
       "      <td>6</td>\n",
       "      <td>Reagan</td>\n",
       "      <td>Senator Hatfield, Mr. Chief Justice, Mr. Presi...</td>\n",
       "    </tr>\n",
       "    <tr>\n",
       "      <th>7</th>\n",
       "      <td>7</td>\n",
       "      <td>Bush</td>\n",
       "      <td>Mr. Chief Justice, Mr. President, Vice Preside...</td>\n",
       "    </tr>\n",
       "    <tr>\n",
       "      <th>8</th>\n",
       "      <td>8</td>\n",
       "      <td>Clinton</td>\n",
       "      <td>My fellow citizens :\\nToday we celebrate the m...</td>\n",
       "    </tr>\n",
       "    <tr>\n",
       "      <th>9</th>\n",
       "      <td>9</td>\n",
       "      <td>W Bush</td>\n",
       "      <td>President Clinton, distinguished guests and my...</td>\n",
       "    </tr>\n",
       "    <tr>\n",
       "      <th>10</th>\n",
       "      <td>10</td>\n",
       "      <td>Obama</td>\n",
       "      <td>My fellow citizens:\\nI stand here today humble...</td>\n",
       "    </tr>\n",
       "    <tr>\n",
       "      <th>11</th>\n",
       "      <td>11</td>\n",
       "      <td>Trump</td>\n",
       "      <td>Chief Justice Roberts, President Carter, Presi...</td>\n",
       "    </tr>\n",
       "  </tbody>\n",
       "</table>\n",
       "</div>"
      ],
      "text/plain": [
       "    Unnamed: 0   president                                             speech\n",
       "0            0  Washington  Fellow Citizens of the Senate and the House of...\n",
       "1            1   Jefferson  FRIENDS AND FELLOW-CITIZENS,\\nCalled upon to u...\n",
       "2            2     Lincoln  Fellow-Countrymen:\\nAt this second appearing t...\n",
       "3            3   Roosevelt  I am certain that my fellow Americans expect t...\n",
       "4            4     Kennedy  Vice President Johnson, Mr. Speaker, Mr. Chief...\n",
       "5            5       Nixon  Senator Dirksen, Mr. Chief Justice, Mr. Vice P...\n",
       "6            6      Reagan  Senator Hatfield, Mr. Chief Justice, Mr. Presi...\n",
       "7            7        Bush  Mr. Chief Justice, Mr. President, Vice Preside...\n",
       "8            8     Clinton  My fellow citizens :\\nToday we celebrate the m...\n",
       "9            9      W Bush  President Clinton, distinguished guests and my...\n",
       "10          10       Obama  My fellow citizens:\\nI stand here today humble...\n",
       "11          11       Trump  Chief Justice Roberts, President Carter, Presi..."
      ]
     },
     "execution_count": 4,
     "metadata": {},
     "output_type": "execute_result"
    }
   ],
   "source": [
    "import pandas as pd\n",
    "speech_file = pd.read_csv('presidential_speech.csv')\n",
    "speech_file"
   ]
  },
  {
   "cell_type": "code",
   "execution_count": 5,
   "metadata": {},
   "outputs": [],
   "source": [
    "def clean_and_spilt(str):\n",
    "    str = str.lower()\n",
    "    str = re.sub('[\\W]+',' ',str)\n",
    "    str = str.strip()\n",
    "    list_of_str = str.split(' ')\n",
    "    return(list_of_str)"
   ]
  },
  {
   "cell_type": "code",
   "execution_count": 6,
   "metadata": {},
   "outputs": [],
   "source": [
    "import re\n",
    "processed_speech_dict = {}\n",
    "for i in range(12):\n",
    "    speech_file.iloc[i]['president']\n",
    "    cleaned_speech = clean_and_spilt(speech_file.iloc[i]['speech'])\n",
    "    lemmatized_speech = lemmatization(cleaned_speech)\n",
    "    processed_speech_dict[speech_file.iloc[i]['president']] = lemmatized_speech"
   ]
  },
  {
   "cell_type": "code",
   "execution_count": 7,
   "metadata": {},
   "outputs": [],
   "source": [
    "import csv\n",
    "file=open('president_value_priority.csv','w',newline='\\n')\n",
    "writer=csv.writer(file)\n",
    "writer.writerow(['president','Self-Direction','Stimulation','Hedonism','Achievement','Power',\n",
    "                 'Security','Tradition','Conformity','Benevolence','Universalism'])\n",
    "for president in processed_speech_dict.keys():\n",
    "    WC = len(processed_speech_dict[president])\n",
    "    calculate_result_dict = {}\n",
    "    for value in value_dic.keys():\n",
    "        AVP = 0\n",
    "        for keyword in value_dic[value]:\n",
    "            AVP += processed_speech_dict[president].count(keyword)\n",
    "        result_of_one_value = AVP/WC*1000\n",
    "        calculate_result_dict[value] = result_of_one_value\n",
    "    writer.writerow(\n",
    "        [\n",
    "        president,calculate_result_dict['Self-Direction'],calculate_result_dict['Stimulation'],calculate_result_dict['Hedonism'],\n",
    "        calculate_result_dict['Achievement'],calculate_result_dict['Power'],calculate_result_dict['Security'],\n",
    "        calculate_result_dict['Tradition'],calculate_result_dict['Conformity'],calculate_result_dict['Benevolence'],calculate_result_dict['Universalism']\n",
    "        ]\n",
    "    ) # same order as the first row (column title)\n",
    "file.close()"
   ]
  },
  {
   "cell_type": "code",
   "execution_count": 8,
   "metadata": {},
   "outputs": [
    {
     "data": {
      "text/html": [
       "<div>\n",
       "<style scoped>\n",
       "    .dataframe tbody tr th:only-of-type {\n",
       "        vertical-align: middle;\n",
       "    }\n",
       "\n",
       "    .dataframe tbody tr th {\n",
       "        vertical-align: top;\n",
       "    }\n",
       "\n",
       "    .dataframe thead th {\n",
       "        text-align: right;\n",
       "    }\n",
       "</style>\n",
       "<table border=\"1\" class=\"dataframe\">\n",
       "  <thead>\n",
       "    <tr style=\"text-align: right;\">\n",
       "      <th></th>\n",
       "      <th>president</th>\n",
       "      <th>Self-Direction</th>\n",
       "      <th>Stimulation</th>\n",
       "      <th>Hedonism</th>\n",
       "      <th>Achievement</th>\n",
       "      <th>Power</th>\n",
       "      <th>Security</th>\n",
       "      <th>Tradition</th>\n",
       "      <th>Conformity</th>\n",
       "      <th>Benevolence</th>\n",
       "      <th>Universalism</th>\n",
       "    </tr>\n",
       "  </thead>\n",
       "  <tbody>\n",
       "    <tr>\n",
       "      <th>0</th>\n",
       "      <td>Washington</td>\n",
       "      <td>13.249651</td>\n",
       "      <td>3.486750</td>\n",
       "      <td>1.394700</td>\n",
       "      <td>13.249651</td>\n",
       "      <td>6.276151</td>\n",
       "      <td>4.184100</td>\n",
       "      <td>4.881450</td>\n",
       "      <td>8.368201</td>\n",
       "      <td>7.670851</td>\n",
       "      <td>8.368201</td>\n",
       "    </tr>\n",
       "    <tr>\n",
       "      <th>1</th>\n",
       "      <td>Jefferson</td>\n",
       "      <td>12.702079</td>\n",
       "      <td>4.041570</td>\n",
       "      <td>3.464203</td>\n",
       "      <td>12.702079</td>\n",
       "      <td>12.702079</td>\n",
       "      <td>8.660508</td>\n",
       "      <td>8.083141</td>\n",
       "      <td>12.124711</td>\n",
       "      <td>8.660508</td>\n",
       "      <td>13.279446</td>\n",
       "    </tr>\n",
       "    <tr>\n",
       "      <th>2</th>\n",
       "      <td>Lincoln</td>\n",
       "      <td>9.929078</td>\n",
       "      <td>4.255319</td>\n",
       "      <td>0.000000</td>\n",
       "      <td>9.929078</td>\n",
       "      <td>4.255319</td>\n",
       "      <td>21.276596</td>\n",
       "      <td>14.184397</td>\n",
       "      <td>0.000000</td>\n",
       "      <td>7.092199</td>\n",
       "      <td>18.439716</td>\n",
       "    </tr>\n",
       "    <tr>\n",
       "      <th>3</th>\n",
       "      <td>Roosevelt</td>\n",
       "      <td>10.621349</td>\n",
       "      <td>11.152416</td>\n",
       "      <td>1.593202</td>\n",
       "      <td>11.152416</td>\n",
       "      <td>7.966012</td>\n",
       "      <td>9.028147</td>\n",
       "      <td>9.028147</td>\n",
       "      <td>10.621349</td>\n",
       "      <td>12.745619</td>\n",
       "      <td>5.841742</td>\n",
       "    </tr>\n",
       "    <tr>\n",
       "      <th>4</th>\n",
       "      <td>Kennedy</td>\n",
       "      <td>19.832189</td>\n",
       "      <td>5.339436</td>\n",
       "      <td>2.288330</td>\n",
       "      <td>9.153318</td>\n",
       "      <td>16.018307</td>\n",
       "      <td>14.492754</td>\n",
       "      <td>5.339436</td>\n",
       "      <td>6.102212</td>\n",
       "      <td>15.255530</td>\n",
       "      <td>12.204424</td>\n",
       "    </tr>\n",
       "    <tr>\n",
       "      <th>5</th>\n",
       "      <td>Nixon</td>\n",
       "      <td>14.547161</td>\n",
       "      <td>7.038949</td>\n",
       "      <td>4.223369</td>\n",
       "      <td>13.608634</td>\n",
       "      <td>9.385265</td>\n",
       "      <td>7.038949</td>\n",
       "      <td>4.223369</td>\n",
       "      <td>2.815580</td>\n",
       "      <td>10.323792</td>\n",
       "      <td>10.323792</td>\n",
       "    </tr>\n",
       "    <tr>\n",
       "      <th>6</th>\n",
       "      <td>Reagan</td>\n",
       "      <td>14.669927</td>\n",
       "      <td>4.889976</td>\n",
       "      <td>1.222494</td>\n",
       "      <td>15.077425</td>\n",
       "      <td>11.817441</td>\n",
       "      <td>6.519967</td>\n",
       "      <td>8.149959</td>\n",
       "      <td>4.482478</td>\n",
       "      <td>10.187449</td>\n",
       "      <td>6.519967</td>\n",
       "    </tr>\n",
       "    <tr>\n",
       "      <th>7</th>\n",
       "      <td>Bush</td>\n",
       "      <td>19.683355</td>\n",
       "      <td>4.706889</td>\n",
       "      <td>2.567394</td>\n",
       "      <td>10.697475</td>\n",
       "      <td>10.269576</td>\n",
       "      <td>5.562687</td>\n",
       "      <td>5.134788</td>\n",
       "      <td>2.995293</td>\n",
       "      <td>18.399658</td>\n",
       "      <td>10.269576</td>\n",
       "    </tr>\n",
       "    <tr>\n",
       "      <th>8</th>\n",
       "      <td>Clinton</td>\n",
       "      <td>18.170426</td>\n",
       "      <td>19.423559</td>\n",
       "      <td>4.385965</td>\n",
       "      <td>8.771930</td>\n",
       "      <td>11.904762</td>\n",
       "      <td>6.892231</td>\n",
       "      <td>5.639098</td>\n",
       "      <td>3.759398</td>\n",
       "      <td>14.411028</td>\n",
       "      <td>7.518797</td>\n",
       "    </tr>\n",
       "    <tr>\n",
       "      <th>9</th>\n",
       "      <td>W Bush</td>\n",
       "      <td>17.621145</td>\n",
       "      <td>10.698553</td>\n",
       "      <td>1.258653</td>\n",
       "      <td>10.698553</td>\n",
       "      <td>12.586532</td>\n",
       "      <td>11.957206</td>\n",
       "      <td>8.810573</td>\n",
       "      <td>8.181246</td>\n",
       "      <td>16.991819</td>\n",
       "      <td>13.845186</td>\n",
       "    </tr>\n",
       "    <tr>\n",
       "      <th>10</th>\n",
       "      <td>Obama</td>\n",
       "      <td>13.272501</td>\n",
       "      <td>8.295313</td>\n",
       "      <td>4.977188</td>\n",
       "      <td>10.369141</td>\n",
       "      <td>9.539610</td>\n",
       "      <td>10.369141</td>\n",
       "      <td>8.710079</td>\n",
       "      <td>2.073828</td>\n",
       "      <td>10.369141</td>\n",
       "      <td>8.295313</td>\n",
       "    </tr>\n",
       "    <tr>\n",
       "      <th>11</th>\n",
       "      <td>Trump</td>\n",
       "      <td>11.072664</td>\n",
       "      <td>8.304498</td>\n",
       "      <td>5.536332</td>\n",
       "      <td>11.764706</td>\n",
       "      <td>14.532872</td>\n",
       "      <td>17.993080</td>\n",
       "      <td>6.920415</td>\n",
       "      <td>3.460208</td>\n",
       "      <td>9.688581</td>\n",
       "      <td>13.148789</td>\n",
       "    </tr>\n",
       "  </tbody>\n",
       "</table>\n",
       "</div>"
      ],
      "text/plain": [
       "     president  Self-Direction  Stimulation  Hedonism  Achievement      Power  \\\n",
       "0   Washington       13.249651     3.486750  1.394700    13.249651   6.276151   \n",
       "1    Jefferson       12.702079     4.041570  3.464203    12.702079  12.702079   \n",
       "2      Lincoln        9.929078     4.255319  0.000000     9.929078   4.255319   \n",
       "3    Roosevelt       10.621349    11.152416  1.593202    11.152416   7.966012   \n",
       "4      Kennedy       19.832189     5.339436  2.288330     9.153318  16.018307   \n",
       "5        Nixon       14.547161     7.038949  4.223369    13.608634   9.385265   \n",
       "6       Reagan       14.669927     4.889976  1.222494    15.077425  11.817441   \n",
       "7         Bush       19.683355     4.706889  2.567394    10.697475  10.269576   \n",
       "8      Clinton       18.170426    19.423559  4.385965     8.771930  11.904762   \n",
       "9       W Bush       17.621145    10.698553  1.258653    10.698553  12.586532   \n",
       "10       Obama       13.272501     8.295313  4.977188    10.369141   9.539610   \n",
       "11       Trump       11.072664     8.304498  5.536332    11.764706  14.532872   \n",
       "\n",
       "     Security  Tradition  Conformity  Benevolence  Universalism  \n",
       "0    4.184100   4.881450    8.368201     7.670851      8.368201  \n",
       "1    8.660508   8.083141   12.124711     8.660508     13.279446  \n",
       "2   21.276596  14.184397    0.000000     7.092199     18.439716  \n",
       "3    9.028147   9.028147   10.621349    12.745619      5.841742  \n",
       "4   14.492754   5.339436    6.102212    15.255530     12.204424  \n",
       "5    7.038949   4.223369    2.815580    10.323792     10.323792  \n",
       "6    6.519967   8.149959    4.482478    10.187449      6.519967  \n",
       "7    5.562687   5.134788    2.995293    18.399658     10.269576  \n",
       "8    6.892231   5.639098    3.759398    14.411028      7.518797  \n",
       "9   11.957206   8.810573    8.181246    16.991819     13.845186  \n",
       "10  10.369141   8.710079    2.073828    10.369141      8.295313  \n",
       "11  17.993080   6.920415    3.460208     9.688581     13.148789  "
      ]
     },
     "execution_count": 8,
     "metadata": {},
     "output_type": "execute_result"
    }
   ],
   "source": [
    "#Self-check\n",
    "table=pd.read_csv('president_value_priority.csv')\n",
    "table"
   ]
  },
  {
   "attachments": {},
   "cell_type": "markdown",
   "metadata": {},
   "source": [
    "If all inauguration speeches are considered, which value is the most important and most mentioned?"
   ]
  },
  {
   "cell_type": "code",
   "execution_count": 9,
   "metadata": {},
   "outputs": [
    {
     "name": "stdout",
     "output_type": "stream",
     "text": [
      "Self-Direction\n"
     ]
    }
   ],
   "source": [
    "result_holder = {}\n",
    "for i in table.columns:\n",
    "    if i == 'president':\n",
    "        continue\n",
    "    else:\n",
    "        result_holder[i] = table[i].mean()\n",
    "print(max(result_holder, key=result_holder.get))"
   ]
  },
  {
   "cell_type": "code",
   "execution_count": 10,
   "metadata": {},
   "outputs": [
    {
     "data": {
      "text/plain": [
       "{'Self-Direction': 14.614293759442562,\n",
       " 'Stimulation': 7.636102356436537,\n",
       " 'Hedonism': 2.74265256197229,\n",
       " 'Achievement': 11.431200536596075,\n",
       " 'Power': 10.604493787693634,\n",
       " 'Security': 10.331280440536073,\n",
       " 'Tradition': 7.425404321767654,\n",
       " 'Conformity': 5.415375318115129,\n",
       " 'Benevolence': 11.816347809876005,\n",
       " 'Universalism': 10.671245752317596}"
      ]
     },
     "execution_count": 10,
     "metadata": {},
     "output_type": "execute_result"
    }
   ],
   "source": [
    "# self-check\n",
    "result_holder"
   ]
  },
  {
   "attachments": {},
   "cell_type": "markdown",
   "metadata": {},
   "source": [
    "Among all studied presidents, who emphasizes the value of STIMULATION more often than others?"
   ]
  },
  {
   "cell_type": "code",
   "execution_count": 11,
   "metadata": {},
   "outputs": [
    {
     "name": "stdout",
     "output_type": "stream",
     "text": [
      "8    Clinton\n",
      "Name: president, dtype: object\n"
     ]
    }
   ],
   "source": [
    "print(table[table['Stimulation']==max(table['Stimulation'])]['president'])"
   ]
  },
  {
   "attachments": {},
   "cell_type": "markdown",
   "metadata": {},
   "source": [
    "Among all studied values, what is the most important thing for Trump?"
   ]
  },
  {
   "cell_type": "code",
   "execution_count": 12,
   "metadata": {},
   "outputs": [
    {
     "name": "stdout",
     "output_type": "stream",
     "text": [
      "Security\n"
     ]
    }
   ],
   "source": [
    "trump_data = table[table['president']=='Trump'].to_dict(orient='list')\n",
    "del trump_data['president']\n",
    "print(max(trump_data, key=trump_data.get))"
   ]
  },
  {
   "attachments": {},
   "cell_type": "markdown",
   "metadata": {},
   "source": [
    "Among all studied values, what is the least important thing for Trump?"
   ]
  },
  {
   "cell_type": "code",
   "execution_count": 13,
   "metadata": {},
   "outputs": [
    {
     "name": "stdout",
     "output_type": "stream",
     "text": [
      "Conformity\n"
     ]
    }
   ],
   "source": [
    "print(min(trump_data, key=trump_data.get))"
   ]
  }
 ],
 "metadata": {
  "kernelspec": {
   "display_name": "Python 3 (ipykernel)",
   "language": "python",
   "name": "python3"
  },
  "language_info": {
   "codemirror_mode": {
    "name": "ipython",
    "version": 3
   },
   "file_extension": ".py",
   "mimetype": "text/x-python",
   "name": "python",
   "nbconvert_exporter": "python",
   "pygments_lexer": "ipython3",
   "version": "3.11.1"
  },
  "widgets": {
   "application/vnd.jupyter.widget-state+json": {
    "state": {
     "09d403da72ce484c8059f560bd837121": {
      "model_module": "@jupyter-widgets/controls",
      "model_module_version": "1.4.0",
      "model_name": "DropdownModel",
      "state": {
       "_options_labels": [
        "Washington",
        "Jefferson",
        "Lincoln",
        "Roosevelt",
        "Kennedy",
        "Nixon",
        "Reagan",
        "Bush",
        "Clinton",
        "W Bush",
        "Obama",
        "Trump"
       ],
       "index": 0,
       "layout": "IPY_MODEL_5d041920c7cd48e2a363485668907b6d",
       "style": "IPY_MODEL_0e118725a2304b21b80c9097e5078e48"
      }
     },
     "0c14d355c296406cafa55fc7a8ff8703": {
      "model_module": "@jupyter-widgets/base",
      "model_module_version": "1.1.0",
      "model_name": "LayoutModel",
      "state": {}
     },
     "0e118725a2304b21b80c9097e5078e48": {
      "model_module": "@jupyter-widgets/controls",
      "model_module_version": "1.4.0",
      "model_name": "DescriptionStyleModel",
      "state": {
       "description_width": ""
      }
     },
     "108e50ab0f634a8e8356903e8b05b383": {
      "model_module": "@jupyter-widgets/base",
      "model_module_version": "1.1.0",
      "model_name": "LayoutModel",
      "state": {}
     },
     "36f14aa0711647fcaf7d3c41e5098cba": {
      "model_module": "@jupyter-widgets/controls",
      "model_module_version": "1.4.0",
      "model_name": "DescriptionStyleModel",
      "state": {
       "description_width": ""
      }
     },
     "427453b1a0234b0795232b2204adf254": {
      "model_module": "@jupyter-widgets/base",
      "model_module_version": "1.1.0",
      "model_name": "LayoutModel",
      "state": {}
     },
     "447e287667804afdb3703200255435b7": {
      "model_module": "@jupyter-widgets/base",
      "model_module_version": "1.1.0",
      "model_name": "LayoutModel",
      "state": {}
     },
     "48c28b30321d42b5aa6ca23b457faec8": {
      "model_module": "@jupyter-widgets/controls",
      "model_module_version": "1.4.0",
      "model_name": "DropdownModel",
      "state": {
       "_options_labels": [
        "Self-Direction",
        "Stimulation",
        "Hedonism",
        "Achievement",
        "Power",
        "Security",
        "Tradition",
        "Conformity",
        "Benevolence",
        "Universalism"
       ],
       "index": 0,
       "layout": "IPY_MODEL_0c14d355c296406cafa55fc7a8ff8703",
       "style": "IPY_MODEL_36f14aa0711647fcaf7d3c41e5098cba"
      }
     },
     "50b1ce134bfb4976b5524b63af79063b": {
      "model_module": "@jupyter-widgets/controls",
      "model_module_version": "1.4.0",
      "model_name": "DescriptionStyleModel",
      "state": {
       "description_width": ""
      }
     },
     "5d041920c7cd48e2a363485668907b6d": {
      "model_module": "@jupyter-widgets/base",
      "model_module_version": "1.1.0",
      "model_name": "LayoutModel",
      "state": {}
     },
     "6bf5d15ed7ba4ce48882118753034deb": {
      "model_module": "@jupyter-widgets/base",
      "model_module_version": "1.1.0",
      "model_name": "LayoutModel",
      "state": {}
     },
     "92f1a9bf5e1e456a9e928334a2c94444": {
      "model_module": "@jupyter-widgets/controls",
      "model_module_version": "1.4.0",
      "model_name": "DropdownModel",
      "state": {
       "_options_labels": [
        "Self-Direction",
        "Stimulation",
        "Hedonism",
        "Achievement",
        "Power",
        "Security",
        "Tradition",
        "Conformity",
        "Benevolence",
        "Universalism"
       ],
       "index": 0,
       "layout": "IPY_MODEL_108e50ab0f634a8e8356903e8b05b383",
       "style": "IPY_MODEL_9482fb8de0f24b67a9ea4476a4ab865a"
      }
     },
     "9482fb8de0f24b67a9ea4476a4ab865a": {
      "model_module": "@jupyter-widgets/controls",
      "model_module_version": "1.4.0",
      "model_name": "DescriptionStyleModel",
      "state": {
       "description_width": ""
      }
     },
     "b342823aa0e74a50bbbe2659fd0a1980": {
      "model_module": "@jupyter-widgets/controls",
      "model_module_version": "1.4.0",
      "model_name": "DropdownModel",
      "state": {
       "_options_labels": [
        "Washington",
        "Jefferson",
        "Lincoln",
        "Roosevelt",
        "Kennedy",
        "Nixon",
        "Reagan",
        "Bush",
        "Clinton",
        "W Bush",
        "Obama",
        "Trump"
       ],
       "index": 0,
       "layout": "IPY_MODEL_427453b1a0234b0795232b2204adf254",
       "style": "IPY_MODEL_e2aa6eccef004eda98c547964bb65ab1"
      }
     },
     "b79d13a09c964e2c9ad68347bc444f73": {
      "model_module": "@jupyter-widgets/controls",
      "model_module_version": "1.4.0",
      "model_name": "DropdownModel",
      "state": {
       "_options_labels": [
        "Self-Direction",
        "Stimulation",
        "Hedonism",
        "Achievement",
        "Power",
        "Security",
        "Tradition",
        "Conformity",
        "Benevolence",
        "Universalism"
       ],
       "index": 0,
       "layout": "IPY_MODEL_447e287667804afdb3703200255435b7",
       "style": "IPY_MODEL_50b1ce134bfb4976b5524b63af79063b"
      }
     },
     "e2aa6eccef004eda98c547964bb65ab1": {
      "model_module": "@jupyter-widgets/controls",
      "model_module_version": "1.4.0",
      "model_name": "DescriptionStyleModel",
      "state": {
       "description_width": ""
      }
     },
     "fa3f15da2c5b48ef902cb9eced151a83": {
      "model_module": "@jupyter-widgets/controls",
      "model_module_version": "1.4.0",
      "model_name": "AccordionModel",
      "state": {
       "_titles": {
        "0": "If all inauguration speeches are considered, which value is the most important and most mentioned?",
        "1": "Among all studied presidents, who emphasizes the value of STIMULATION more often than others?",
        "2": "Among all studied presidents, who emphasizes the value of POWER more often than others?",
        "3": "Among all studied values, what is the most important thing for Trump?",
        "4": "Among all studied values, what is the least important thing for Trump?"
       },
       "children": [
        "IPY_MODEL_b79d13a09c964e2c9ad68347bc444f73",
        "IPY_MODEL_b342823aa0e74a50bbbe2659fd0a1980",
        "IPY_MODEL_09d403da72ce484c8059f560bd837121",
        "IPY_MODEL_92f1a9bf5e1e456a9e928334a2c94444",
        "IPY_MODEL_48c28b30321d42b5aa6ca23b457faec8"
       ],
       "layout": "IPY_MODEL_6bf5d15ed7ba4ce48882118753034deb"
      }
     }
    },
    "version_major": 2,
    "version_minor": 0
   }
  }
 },
 "nbformat": 4,
 "nbformat_minor": 2
}
