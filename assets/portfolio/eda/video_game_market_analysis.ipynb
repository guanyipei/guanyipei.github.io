{
 "cells": [
  {
   "attachments": {},
   "cell_type": "markdown",
   "id": "bca1ffc0",
   "metadata": {},
   "source": [
    "<h1>The Big3's Performance in Video Game Market</h1>"
   ]
  },
  {
   "attachments": {},
   "cell_type": "markdown",
   "id": "67d82a05",
   "metadata": {},
   "source": [
    "<h3>1. Dataset Downloading and Credit</h3>"
   ]
  },
  {
   "cell_type": "markdown",
   "id": "c4c4d2e1",
   "metadata": {},
   "source": [
    "<p>The dataset used in this notebook is uploaded by GREGORYSMITH on Kaggle.<br>\n",
    "Link: <a href='https://www.kaggle.com/datasets/gregorut/videogamesales'>https://www.kaggle.com/datasets/gregorut/videogamesales</a></p>"
   ]
  },
  {
   "attachments": {},
   "cell_type": "markdown",
   "id": "58f42487",
   "metadata": {},
   "source": [
    "<h3>2. Data Importing</h3>"
   ]
  },
  {
   "cell_type": "code",
   "execution_count": 1,
   "id": "b6a74d4d",
   "metadata": {},
   "outputs": [],
   "source": [
    "import pandas as pd\n",
    "import plotly.graph_objects as go"
   ]
  },
  {
   "cell_type": "code",
   "execution_count": 2,
   "id": "ec27704d",
   "metadata": {},
   "outputs": [],
   "source": [
    "video_games = pd.read_csv('vgsales.csv')\n",
    "# please change the path to the absolute path of the downloaded dataset if it is not placed as the same folder with this notebook."
   ]
  },
  {
   "cell_type": "markdown",
   "id": "c0d59acb",
   "metadata": {},
   "source": [
    "<h3>3. Data Scanning</h3>"
   ]
  },
  {
   "cell_type": "code",
   "execution_count": 3,
   "id": "e848ff69",
   "metadata": {},
   "outputs": [
    {
     "name": "stdout",
     "output_type": "stream",
     "text": [
      "<class 'pandas.core.frame.DataFrame'>\n",
      "RangeIndex: 16598 entries, 0 to 16597\n",
      "Data columns (total 11 columns):\n",
      " #   Column        Non-Null Count  Dtype  \n",
      "---  ------        --------------  -----  \n",
      " 0   Rank          16598 non-null  int64  \n",
      " 1   Name          16598 non-null  object \n",
      " 2   Platform      16598 non-null  object \n",
      " 3   Year          16327 non-null  float64\n",
      " 4   Genre         16598 non-null  object \n",
      " 5   Publisher     16540 non-null  object \n",
      " 6   NA_Sales      16598 non-null  float64\n",
      " 7   EU_Sales      16598 non-null  float64\n",
      " 8   JP_Sales      16598 non-null  float64\n",
      " 9   Other_Sales   16598 non-null  float64\n",
      " 10  Global_Sales  16598 non-null  float64\n",
      "dtypes: float64(6), int64(1), object(4)\n",
      "memory usage: 1.4+ MB\n"
     ]
    }
   ],
   "source": [
    "video_games.info()"
   ]
  },
  {
   "cell_type": "code",
   "execution_count": 4,
   "id": "6dea17df",
   "metadata": {},
   "outputs": [
    {
     "data": {
      "text/plain": [
       "Rank              0\n",
       "Name              0\n",
       "Platform          0\n",
       "Year            271\n",
       "Genre             0\n",
       "Publisher        58\n",
       "NA_Sales          0\n",
       "EU_Sales          0\n",
       "JP_Sales          0\n",
       "Other_Sales       0\n",
       "Global_Sales      0\n",
       "dtype: int64"
      ]
     },
     "execution_count": 4,
     "metadata": {},
     "output_type": "execute_result"
    }
   ],
   "source": [
    "video_games.isnull().sum() #check the null data points"
   ]
  },
  {
   "cell_type": "code",
   "execution_count": 5,
   "id": "19a96ab9",
   "metadata": {},
   "outputs": [
    {
     "name": "stdout",
     "output_type": "stream",
     "text": [
      "The year range coved in the dataset: 1980.0 -----> 2020.0\n",
      "Genres: ['Action', 'Sports', 'Misc', 'Role-Playing', 'Shooter', 'Adventure', 'Racing', 'Platform', 'Simulation', 'Fighting', 'Strategy', 'Puzzle']\n",
      "Platforms: ['DS', 'PS2', 'PS3', 'Wii', 'X360', 'PSP', 'PS', 'PC', 'XB', 'GBA', 'GC', '3DS', 'PSV', 'PS4', 'N64', 'SNES', 'XOne', 'SAT', 'WiiU', '2600', 'NES', 'GB', 'DC', 'GEN', 'NG', 'SCD', 'WS', '3DO', 'TG16', 'GG', 'PCFX']\n",
      "Sales Regions: Index(['NA_Sales', 'EU_Sales', 'JP_Sales', 'Other_Sales', 'Global_Sales'], dtype='object')\n"
     ]
    }
   ],
   "source": [
    "print('The year range coved in the dataset:',video_games['Year'].min(),'----->',video_games['Year'].max())\n",
    "print('Genres:',video_games['Genre'].value_counts().index.tolist())\n",
    "print('Platforms:',video_games['Platform'].value_counts().index.tolist())\n",
    "print('Sales Regions:',video_games.columns[6:])"
   ]
  },
  {
   "cell_type": "markdown",
   "id": "145d5e2c",
   "metadata": {},
   "source": [
    "<h3>4. Glance at The Big3</h3>"
   ]
  },
  {
   "cell_type": "markdown",
   "id": "a2b178a7",
   "metadata": {},
   "source": [
    "<p>The Big3 in vedio game industry refres to Sony, Microsoft, and Nintendo, who enjoy the reputation among players and having influence in the industry.</p>"
   ]
  },
  {
   "cell_type": "code",
   "execution_count": null,
   "id": "2cd810fd",
   "metadata": {},
   "outputs": [],
   "source": [
    "video_games_by_big3 = video_games[(video_games['Publisher']=='Sony Computer Entertainment') | (video_games['Publisher']=='Microsoft Game Studios') | (video_games['Publisher']=='Nintendo')]\n",
    "sony = video_games[(video_games['Publisher']=='Sony Computer Entertainment')]\n",
    "microsoft = video_games[(video_games['Publisher']=='Microsoft Game Studios')]\n",
    "nintendo = video_games[(video_games['Publisher']=='Nintendo')]\n",
    "\n",
    "print('Number of titles published by The Big 3:',len(video_games_by_big3))\n",
    "trace_overall_titles = go.Pie(values=[len(sony),len(microsoft),len(nintendo),len(video_games)-len(video_games_by_big3)],labels=['Sony','Microsoft','Nintendo','Others'],marker={'colors':['#4c00b0','#107C10','#fe0016','#DCE1E2']})\n",
    "layout_overall_titles = go.Layout(title='The Proportion of Video Game Titles Published by Big3 and Others')\n",
    "figure_overall_titles = go.Figure(data=trace_overall_titles,layout=layout_overall_titles)\n",
    "figure_overall_titles.show()\n",
    "print('---------------')\n",
    "print('Global Sales of The Big 3:',round(sony['Global_Sales'].sum()+microsoft['Global_Sales'].sum()+nintendo['Global_Sales'].sum()))\n",
    "trace_overall_global_sales = go.Pie(values=[sony['Global_Sales'].sum(),microsoft['Global_Sales'].sum(),nintendo['Global_Sales'].sum(),video_games['Global_Sales'].sum()-sony['Global_Sales'].sum()-microsoft['Global_Sales'].sum()-nintendo['Global_Sales'].sum()],labels=['Sony','Microsoft','Nintendo','Others'],marker={'colors':['#4c00b0','#107C10','#fe0016','#DCE1E2']})\n",
    "layout_overall_global_sales = go.Layout(title='The Proportion of Video Game Global Sales Published by Big3 and Others')\n",
    "figure_overall_global_sales = go.Figure(data=trace_overall_global_sales,layout=layout_overall_global_sales)\n",
    "figure_overall_global_sales.show()"
   ]
  },
  {
   "attachments": {},
   "cell_type": "markdown",
   "id": "774a54af",
   "metadata": {},
   "source": [
    "<h3>5. Data Analyzing and Visualizing</h3>"
   ]
  },
  {
   "cell_type": "markdown",
   "id": "3a46e8c0",
   "metadata": {},
   "source": [
    "<p>The follow codes are designed to analyze basic information based on the dataset.<br>\n",
    "    The user will be asked to type in the brand name and genre they are interested to explore.</p>"
   ]
  },
  {
   "cell_type": "markdown",
   "id": "4be44619",
   "metadata": {},
   "source": [
    "<h4>Choose a Publisher to know about its titles' distributions by platform and genre.</h4>"
   ]
  },
  {
   "cell_type": "code",
   "execution_count": null,
   "id": "b4cb7df4",
   "metadata": {},
   "outputs": [],
   "source": [
    "choice_publisher = str(input('Choose the Publisher you want to analyze from the Big3: ')).lower()\n",
    "if choice_publisher == 'microsoft':\n",
    "    publisher = microsoft\n",
    "elif choice_publisher == 'sony':\n",
    "    publisher = sony\n",
    "elif choice_publisher == 'nintendo':\n",
    "    publisher = nintendo\n",
    "else:\n",
    "    choice_publisher = str(input('Please choose from the Big3: ')).lower()\n",
    "\n",
    "print('---------------')\n",
    "print('Its publishment period:',publisher['Year'].min(),'----->',sony['Year'].max())\n",
    "\n",
    "print('---------------')\n",
    "publisher_dic = {}\n",
    "for genre in publisher['Genre'].value_counts().index.tolist():\n",
    "    count = []\n",
    "    for platform in publisher['Platform'].value_counts().index.tolist():\n",
    "        count.append(len(publisher[publisher['Platform']==platform][publisher['Genre']==genre]))\n",
    "    publisher_dic[genre]=count\n",
    "Layout_publisher_1 = go.Layout(title='Title\\'s Distribution by Platform',barmode='stack')\n",
    "figure_publisher_1 = go.Figure(data=[],layout=Layout_publisher_1)\n",
    "for i in publisher_dic.keys():\n",
    "    figure_publisher_1.add_trace(go.Bar(x=publisher['Platform'].value_counts().index.tolist(),y=publisher_dic[i],name=i))\n",
    "figure_publisher_1.show()\n",
    "\n",
    "print('---------------')\n",
    "trace_publisher_2 = go.Bar(x=publisher['Genre'].value_counts().index.tolist(),y=publisher['Genre'].value_counts().values.tolist(),name='Title\\'s Distribution by Genre')\n",
    "layout_publisher_2 = go.Layout(title='Title\\'s Distribution by Genre',showlegend=False)\n",
    "figure_publisher_2 = go.Figure(data=trace_publisher_2,layout=layout_publisher_2)\n",
    "figure_publisher_2.show()\n",
    "print('===============')"
   ]
  },
  {
   "cell_type": "markdown",
   "id": "c094fc66",
   "metadata": {},
   "source": [
    "<h4>Choose a genre  under the chosen publisher to analyze its previous sales performance and the most successful titles.</h4>"
   ]
  },
  {
   "cell_type": "code",
   "execution_count": null,
   "id": "2f60bb18",
   "metadata": {},
   "outputs": [],
   "source": [
    "print(publisher['Genre'].value_counts().index.tolist())\n",
    "print('Choose the genre you want to analyze from the above list, please mind that it is case sensitive so it is recommended to copy and paste.')\n",
    "choice_genre = str(input('The genre you want to explore: '))\n",
    "publisher_genre_user = publisher.sort_values(by=['Year'],ascending=True).loc[publisher['Genre']==choice_genre]\n",
    "trace_publisher_3 = go.Scatter(x=publisher_genre_user['Name'],y=publisher_genre_user['Global_Sales'],mode='markers')\n",
    "layout_publisher_3 = go.Layout(title='Titles of Your Choosing Genre Global Sales Through the Publishing Year',xaxis={'showticklabels':False})\n",
    "figure_publisher_3 = go.Figure(data=trace_publisher_3,layout=layout_publisher_3)\n",
    "figure_publisher_3.show()\n",
    "\n",
    "print('---------------')\n",
    "publisher_genre_user_selective = publisher_genre_user[publisher_genre_user['Global_Sales']>=1.00]\n",
    "print('The number of titles in',choice_genre,'by',choice_publisher,'with over 1 million Sales:',len(publisher_genre_user_selective))\n",
    "print('Their names:',publisher_genre_user_selective['Name'].values)\n",
    "\n",
    "print('---------------')\n",
    "publisher_genre_user_top_10 = publisher_genre_user.sort_values(by=['Global_Sales'],ascending=False).head(10)\n",
    "print('The TOP 10 Titles by Global Sales in',choice_genre,'by',choice_publisher,'from #1 to #10:',publisher_genre_user_top_10['Name'].values)\n",
    "print('===============')"
   ]
  }
 ],
 "metadata": {
  "kernelspec": {
   "display_name": "Python 3 (ipykernel)",
   "language": "python",
   "name": "python3"
  },
  "language_info": {
   "codemirror_mode": {
    "name": "ipython",
    "version": 3
   },
   "file_extension": ".py",
   "mimetype": "text/x-python",
   "name": "python",
   "nbconvert_exporter": "python",
   "pygments_lexer": "ipython3",
   "version": "3.11.1"
  }
 },
 "nbformat": 4,
 "nbformat_minor": 5
}
